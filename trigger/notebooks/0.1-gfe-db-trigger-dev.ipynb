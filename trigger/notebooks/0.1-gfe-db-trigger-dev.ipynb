{
 "cells": [
  {
   "cell_type": "markdown",
   "id": "3c13739f",
   "metadata": {},
   "source": [
    "# gfe-db Lambda Trigger Development Notebook\n",
    "\n",
    "Activites:\n",
    "- Create initial state: scrape IMGTHLA repo for list of release branches\n",
    " - Reduce to only 4 digit integers that increment by 10\n",
    "- Lambda strategy\n",
    " - Fetch initial release list from S3\n",
    " - Fetch current list of branches from the IMGTHLA repo\n",
    "  - look for new branches and validate: 1) follows the release version format of 4 digits and 2) is equal to the previous version plus 10"
   ]
  },
  {
   "cell_type": "code",
   "execution_count": 1,
   "id": "c9e4e23a",
   "metadata": {},
   "outputs": [
    {
     "data": {
      "text/html": [
       "<style>.container { width:100% !important; }</style>"
      ],
      "text/plain": [
       "<IPython.core.display.HTML object>"
      ]
     },
     "metadata": {},
     "output_type": "display_data"
    }
   ],
   "source": [
    "from IPython.core.display import display, HTML\n",
    "display(HTML(\"<style>.container { width:100% !important; }</style>\"))"
   ]
  },
  {
   "cell_type": "code",
   "execution_count": 2,
   "id": "f2d4df31",
   "metadata": {},
   "outputs": [],
   "source": [
    "import os\n",
    "import datetime\n",
    "import copy\n",
    "import json\n",
    "import re\n",
    "import requests\n",
    "import numpy as np\n",
    "import boto3"
   ]
  },
  {
   "cell_type": "code",
   "execution_count": 3,
   "id": "94dbf888",
   "metadata": {},
   "outputs": [],
   "source": [
    "# Notebook libraries\n",
    "from dotenv import load_dotenv, find_dotenv\n",
    "load_dotenv(find_dotenv());\n",
    "\n",
    "GITHUB_PERSONAL_ACCESS_TOKEN = os.environ[\"GITHUB_PERSONAL_ACCESS_TOKEN\"]\n",
    "GITHUB_REPOSITORY_OWNER = os.environ[\"GITHUB_REPOSITORY_OWNER\"]\n",
    "GITHUB_REPOSITORY_NAME = os.environ[\"GITHUB_REPOSITORY_NAME\"]\n",
    "GFE_BUCKET = os.environ[\"GFE_BUCKET\"]"
   ]
  },
  {
   "cell_type": "code",
   "execution_count": 4,
   "id": "54fe6c70",
   "metadata": {},
   "outputs": [
    {
     "name": "stdout",
     "output_type": "stream",
     "text": [
      "GITHUB_REPOSITORY_OWNER: ANHIG\n",
      "GITHUB_REPOSITORY_NAME: IMGTHLA\n",
      "GFE_BUCKET: dev-gfe-db-531868584498-us-east-1\n"
     ]
    }
   ],
   "source": [
    "print(f\"GITHUB_REPOSITORY_OWNER: {GITHUB_REPOSITORY_OWNER}\")\n",
    "print(f\"GITHUB_REPOSITORY_NAME: {GITHUB_REPOSITORY_NAME}\")\n",
    "print(f\"GFE_BUCKET: {GFE_BUCKET}\")"
   ]
  },
  {
   "cell_type": "markdown",
   "id": "874b85eb",
   "metadata": {},
   "source": [
    "## Utility Functions"
   ]
  },
  {
   "cell_type": "code",
   "execution_count": 5,
   "id": "6fe75420",
   "metadata": {},
   "outputs": [],
   "source": [
    "def get_branches(owner, repo):\n",
    "    \"\"\"Return a list of GitHub branches for the specified repository\"\"\"\n",
    "\n",
    "    base_url = 'https://api.github.com'\n",
    "\n",
    "    # Endpoint\n",
    "    endpoint = f'/repos/{owner}/{repo}/branches?per_page=100'\n",
    "\n",
    "    url = base_url + endpoint\n",
    "\n",
    "    # Headers\n",
    "    headers = {\n",
    "        'Authorization': f'token {GITHUB_PERSONAL_ACCESS_TOKEN}', \n",
    "        'Content-Type': 'application/json',\n",
    "        'Accept': 'application/vnd.github.v3+json'\n",
    "    }\n",
    "    \n",
    "    response = requests.get(url)\n",
    "    branches = json.loads(response.content)\n",
    "    \n",
    "    return [branch[\"name\"] for branch in branches]"
   ]
  },
  {
   "cell_type": "code",
   "execution_count": 6,
   "id": "debb71e1",
   "metadata": {},
   "outputs": [],
   "source": [
    "def is_valid_release(branch):\n",
    "    \"\"\"Returns True if the branch is a valid release, False if not\"\"\"\n",
    "\n",
    "    # Checks for a pattern corresponding to 3 digits followed by one zero, ie., 3460\n",
    "    release_pattern = r'^\\d{3}0$'\n",
    "    p = re.compile(release_pattern)\n",
    "    match = p.match(branch)\n",
    "\n",
    "    if match:\n",
    "        return True\n",
    "    else:\n",
    "        return False"
   ]
  },
  {
   "cell_type": "code",
   "execution_count": 7,
   "id": "7a4ea042",
   "metadata": {},
   "outputs": [],
   "source": [
    "def get_releases(owner, repo):\n",
    "    return list(filter(is_valid_release, get_branches(owner, repo)))"
   ]
  },
  {
   "cell_type": "code",
   "execution_count": 8,
   "id": "0eeec11e",
   "metadata": {},
   "outputs": [],
   "source": [
    "def write_config(path):\n",
    "    \"\"\"Writes config file containing the current state of branches in \n",
    "    a GitHub repo\"\"\"\n",
    "    \n",
    "    branches_config = {\n",
    "        \"timestamp\": str(datetime.datetime.utcnow())[:-7],\n",
    "        \"releases\": get_releases(GITHUB_REPOSITORY_OWNER, GITHUB_REPOSITORY_NAME)\n",
    "    }\n",
    "    \n",
    "    try:\n",
    "        response = s3.put_object(\n",
    "             Body=json.dumps(branches_config),\n",
    "             Bucket=GFE_BUCKET,\n",
    "             Key=\"/\".join(path.split(\"/\")[3:]))\n",
    "        \n",
    "        if response['ResponseMetadata']['HTTPStatusCode'] == 200:\n",
    "            print(f\"Wrote config file to {path}\")\n",
    "            return\n",
    "        else:\n",
    "            print(f'Failed to write config file to {path}. HTTPStatusCode: {response[\"ResponseMetadata\"][\"HTTPStatusCode\"]}')\n",
    "            return\n",
    "        \n",
    "    except Exception as err:\n",
    "        raise err"
   ]
  },
  {
   "cell_type": "code",
   "execution_count": 9,
   "id": "567e4041",
   "metadata": {},
   "outputs": [],
   "source": [
    "def read_config(path):\n",
    "    \"\"\"Reads config file containing the current state of branches in \n",
    "    a GitHub repo\"\"\"\n",
    "    \n",
    "    try:\n",
    "        response = s3.get_object(\n",
    "            Bucket=GFE_BUCKET, \n",
    "            Key=\"/\".join(path.split(\"/\")[3:]))\n",
    "        \n",
    "        if response['ResponseMetadata']['HTTPStatusCode'] == 200:\n",
    "            print(f\"Read config file from {path}\")\n",
    "            return json.loads(response[\"Body\"].read().decode())\n",
    "        else:\n",
    "            print(f'Failed to read config file to {path}. HTTPStatusCode: {response[\"ResponseMetadata\"][\"HTTPStatusCode\"]}')\n",
    "            return\n",
    "        \n",
    "    except Exception as err:\n",
    "        raise err"
   ]
  },
  {
   "cell_type": "code",
   "execution_count": 10,
   "id": "8804ad60",
   "metadata": {},
   "outputs": [],
   "source": [
    "def check_new_releases(previous_state, current_state):\n",
    "    \"\"\"Checks for new IMGT/HLA releases and triggers the update\n",
    "    pipeline if any are found\"\"\"\n",
    "\n",
    "    # Check if any branches have been added\n",
    "    new_branches_count = len(current_state) - len(previous_state)\n",
    "    branches_added = (new_branches_count > 0)\n",
    "\n",
    "    if branches_added:\n",
    "\n",
    "        print(f\"New branches: {current_state[-new_branches_count:]}\")\n",
    "\n",
    "        # Get the new branches\n",
    "        new_releases = sorted([int(release) for release in list(set(current_state).difference(previous_state))])\n",
    "        last_release = [int(previous_state[-1])]\n",
    "\n",
    "        # Check that the last release and the new releases differ by 10\n",
    "        elementwise_difference = list(set(np.diff([release for release in last_release + new_releases])))\n",
    "        new_branches_are_valid_releases = (len(elementwise_difference) == 1 and elementwise_difference[0] == 10)\n",
    "\n",
    "        if new_branches_are_valid_releases:\n",
    "            \n",
    "            return new_releases\n",
    "    else:\n",
    "        print(\"No new branches detected\")\n",
    "        \n",
    "        return"
   ]
  },
  {
   "cell_type": "markdown",
   "id": "39db89e2",
   "metadata": {},
   "source": [
    "## Compare previous repo state with current repo state\n",
    "- Fetch the previous list of branches\n",
    "- Fetch the current list of branches\n",
    "- Compare"
   ]
  },
  {
   "cell_type": "code",
   "execution_count": 11,
   "id": "233575f0",
   "metadata": {},
   "outputs": [],
   "source": [
    "s3 = boto3.client('s3')"
   ]
  },
  {
   "cell_type": "code",
   "execution_count": 12,
   "id": "3ed81143",
   "metadata": {},
   "outputs": [
    {
     "name": "stdout",
     "output_type": "stream",
     "text": [
      "Wrote config file to s3://dev-gfe-db-531868584498-us-east-1/config/trigger/IMGTHLA-repository-state.json\n"
     ]
    }
   ],
   "source": [
    "path = f\"s3://{GFE_BUCKET}/config/trigger/IMGTHLA-repository-state.json\"\n",
    "response = write_config(path)"
   ]
  },
  {
   "cell_type": "code",
   "execution_count": 13,
   "id": "17328032",
   "metadata": {},
   "outputs": [
    {
     "name": "stdout",
     "output_type": "stream",
     "text": [
      "Read config file from s3://dev-gfe-db-531868584498-us-east-1/config/trigger/IMGTHLA-repository-state.json\n",
      "Read config file from s3://dev-gfe-db-531868584498-us-east-1/config/pipeline/params.json\n"
     ]
    }
   ],
   "source": [
    "branches_config_path = f\"s3://{GFE_BUCKET}/config/trigger/IMGTHLA-repository-state.json\"\n",
    "branches_config = read_config(branches_config_path)\n",
    "\n",
    "params_path = f\"s3://{GFE_BUCKET}/config/pipeline/params.json\"\n",
    "params = read_config(params_path)"
   ]
  },
  {
   "cell_type": "code",
   "execution_count": 14,
   "id": "389a0566",
   "metadata": {},
   "outputs": [
    {
     "data": {
      "text/plain": [
       "{'params': {'environment': {'ALIGN': 'False',\n",
       "   'KIR': 'False',\n",
       "   'MEM_PROFILE': 'False',\n",
       "   'LIMIT': '100'}}}"
      ]
     },
     "execution_count": 14,
     "metadata": {},
     "output_type": "execute_result"
    }
   ],
   "source": [
    "params"
   ]
  },
  {
   "cell_type": "code",
   "execution_count": 15,
   "id": "20e1b85d",
   "metadata": {},
   "outputs": [],
   "source": [
    "# Set up test conditions for different repo states (no new releases, one, two or three new releases)\n",
    "test_conditions = {\n",
    "    \"condition1\": branches_config[\"releases\"],\n",
    "    \"condition2\": branches_config[\"releases\"][:-1],\n",
    "    \"condition3\": branches_config[\"releases\"][:-2],\n",
    "    \"condition4\": branches_config[\"releases\"][:-3],\n",
    "}"
   ]
  },
  {
   "cell_type": "code",
   "execution_count": 16,
   "id": "9b0475cf",
   "metadata": {},
   "outputs": [],
   "source": [
    "current_state = get_releases(GITHUB_REPOSITORY_OWNER, GITHUB_REPOSITORY_NAME)"
   ]
  },
  {
   "cell_type": "code",
   "execution_count": 17,
   "id": "4c797d4c",
   "metadata": {},
   "outputs": [
    {
     "name": "stdout",
     "output_type": "stream",
     "text": [
      "No new branches detected\n",
      "\n",
      "\n",
      "New branches: ['3460']\n",
      "Pipeline triggered:\n",
      "{'ALIGN': 'False', 'KIR': 'False', 'MEM_PROFILE': 'False', 'LIMIT': '100', 'RELEASES': 3460}\n",
      "\n",
      "\n",
      "New branches: ['3450', '3460']\n",
      "Pipeline triggered:\n",
      "{'ALIGN': 'False', 'KIR': 'False', 'MEM_PROFILE': 'False', 'LIMIT': '100', 'RELEASES': 3450}\n",
      "{'ALIGN': 'False', 'KIR': 'False', 'MEM_PROFILE': 'False', 'LIMIT': '100', 'RELEASES': 3460}\n",
      "\n",
      "\n",
      "New branches: ['3440', '3450', '3460']\n",
      "Pipeline triggered:\n",
      "{'ALIGN': 'False', 'KIR': 'False', 'MEM_PROFILE': 'False', 'LIMIT': '100', 'RELEASES': 3440}\n",
      "{'ALIGN': 'False', 'KIR': 'False', 'MEM_PROFILE': 'False', 'LIMIT': '100', 'RELEASES': 3450}\n",
      "{'ALIGN': 'False', 'KIR': 'False', 'MEM_PROFILE': 'False', 'LIMIT': '100', 'RELEASES': 3460}\n",
      "\n",
      "\n"
     ]
    }
   ],
   "source": [
    "# for loop is for testing different conditions\n",
    "for condition, state in test_conditions.items():\n",
    "    new_releases = check_new_releases(state, current_state)\n",
    "    \n",
    "    if new_releases:\n",
    "    \n",
    "        print(f'Pipeline triggered:')\n",
    "\n",
    "        state_machine_input = []\n",
    "\n",
    "        for release in new_releases:\n",
    "            \n",
    "            params_input = copy.deepcopy(params[\"params\"][\"environment\"])\n",
    "            params_input[\"RELEASES\"] = release\n",
    "            print(f'{params_input}')            \n",
    "            state_machine_input.append(params_input)\n",
    "        \n",
    "    print(\"\\n\")"
   ]
  },
  {
   "cell_type": "code",
   "execution_count": 18,
   "id": "5016b3ed",
   "metadata": {},
   "outputs": [
    {
     "data": {
      "text/plain": [
       "[{'ALIGN': 'False',\n",
       "  'KIR': 'False',\n",
       "  'MEM_PROFILE': 'False',\n",
       "  'LIMIT': '100',\n",
       "  'RELEASES': 3440},\n",
       " {'ALIGN': 'False',\n",
       "  'KIR': 'False',\n",
       "  'MEM_PROFILE': 'False',\n",
       "  'LIMIT': '100',\n",
       "  'RELEASES': 3450},\n",
       " {'ALIGN': 'False',\n",
       "  'KIR': 'False',\n",
       "  'MEM_PROFILE': 'False',\n",
       "  'LIMIT': '100',\n",
       "  'RELEASES': 3460}]"
      ]
     },
     "execution_count": 18,
     "metadata": {},
     "output_type": "execute_result"
    }
   ],
   "source": [
    "state_machine_input"
   ]
  },
  {
   "cell_type": "code",
   "execution_count": 19,
   "id": "ec7ab92c",
   "metadata": {},
   "outputs": [
    {
     "data": {
      "text/plain": [
       "[{'ALIGN': 'False',\n",
       "  'KIR': 'False',\n",
       "  'MEM_PROFILE': 'False',\n",
       "  'LIMIT': '100',\n",
       "  'RELEASES': 3440},\n",
       " {'ALIGN': 'False',\n",
       "  'KIR': 'False',\n",
       "  'MEM_PROFILE': 'False',\n",
       "  'LIMIT': '100',\n",
       "  'RELEASES': 3450},\n",
       " {'ALIGN': 'False',\n",
       "  'KIR': 'False',\n",
       "  'MEM_PROFILE': 'False',\n",
       "  'LIMIT': '100',\n",
       "  'RELEASES': 3460}]"
      ]
     },
     "execution_count": 19,
     "metadata": {},
     "output_type": "execute_result"
    }
   ],
   "source": [
    "state_machine_input"
   ]
  },
  {
   "cell_type": "code",
   "execution_count": 20,
   "id": "0e37252a",
   "metadata": {},
   "outputs": [
    {
     "name": "stdout",
     "output_type": "stream",
     "text": [
      "Wrote config file to s3://dev-gfe-db-531868584498-us-east-1/config/trigger/IMGTHLA-repository-state.json\n"
     ]
    }
   ],
   "source": [
    "write_config(branches_config_path)"
   ]
  },
  {
   "cell_type": "code",
   "execution_count": null,
   "id": "0f4ac73e",
   "metadata": {},
   "outputs": [],
   "source": []
  }
 ],
 "metadata": {
  "kernelspec": {
   "display_name": "gfe-db-trigger",
   "language": "python",
   "name": "gfe-db-trigger"
  },
  "language_info": {
   "codemirror_mode": {
    "name": "ipython",
    "version": 3
   },
   "file_extension": ".py",
   "mimetype": "text/x-python",
   "name": "python",
   "nbconvert_exporter": "python",
   "pygments_lexer": "ipython3",
   "version": "3.8.8"
  }
 },
 "nbformat": 4,
 "nbformat_minor": 5
}
