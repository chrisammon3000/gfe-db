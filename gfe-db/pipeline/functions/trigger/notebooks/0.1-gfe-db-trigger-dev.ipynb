{
 "cells": [
  {
   "cell_type": "markdown",
   "id": "3c13739f",
   "metadata": {},
   "source": [
    "# gfe-db Pipeline Trigger Development Notebook\n",
    "\n",
    "Runs on a schedule, checks the IMGT/HLA repository for new release branches and triggers the update pipeline if one is found.\n",
    "\n",
    "Activites:\n",
    "- Create initial state: scrape IMGTHLA repo for list of release branches\n",
    " - Reduce to only 4 digit integers that increment by 10\n",
    "- Lambda strategy\n",
    " - Fetch initial release list from S3\n",
    " - Fetch current list of branches from the IMGTHLA repo\n",
    "  - look for new branches and validate: 1) follows the release version format of 4 digits and 2) is equal to the previous version plus 10"
   ]
  },
  {
   "cell_type": "code",
   "execution_count": 1,
   "id": "c9e4e23a",
   "metadata": {},
   "outputs": [
    {
     "data": {
      "text/html": [
       "<style>.container { width:100% !important; }</style>"
      ],
      "text/plain": [
       "<IPython.core.display.HTML object>"
      ]
     },
     "metadata": {},
     "output_type": "display_data"
    }
   ],
   "source": [
    "from IPython.core.display import display, HTML\n",
    "display(HTML(\"<style>.container { width:100% !important; }</style>\"))"
   ]
  },
  {
   "cell_type": "code",
   "execution_count": 2,
   "id": "f2d4df31",
   "metadata": {},
   "outputs": [],
   "source": [
    "import os\n",
    "import datetime\n",
    "import copy\n",
    "import json\n",
    "import re\n",
    "import requests\n",
    "import numpy as np\n",
    "import boto3"
   ]
  },
  {
   "cell_type": "code",
   "execution_count": 3,
   "id": "94dbf888",
   "metadata": {},
   "outputs": [],
   "source": [
    "# Notebook libraries\n",
    "from dotenv import load_dotenv, find_dotenv\n",
    "load_dotenv(find_dotenv());\n",
    "\n",
    "GITHUB_PERSONAL_ACCESS_TOKEN = os.environ[\"GITHUB_PERSONAL_ACCESS_TOKEN\"]\n",
    "GITHUB_REPOSITORY_OWNER = os.environ[\"GITHUB_REPOSITORY_OWNER\"]\n",
    "GITHUB_REPOSITORY_NAME = os.environ[\"GITHUB_REPOSITORY_NAME\"]\n",
    "GFE_BUCKET = os.environ[\"GFE_BUCKET\"]\n",
    "UPDATE_PIPELINE_STATE_MACHINE_ARN = os.environ[\"UPDATE_PIPELINE_STATE_MACHINE_ARN\"]"
   ]
  },
  {
   "cell_type": "code",
   "execution_count": 4,
   "id": "54fe6c70",
   "metadata": {},
   "outputs": [
    {
     "name": "stdout",
     "output_type": "stream",
     "text": [
      "GITHUB_REPOSITORY_OWNER: ANHIG\n",
      "GITHUB_REPOSITORY_NAME: IMGTHLA\n",
      "GFE_BUCKET: dev-gfe-db-531868584498-us-east-1\n",
      "UPDATE_PIPELINE_STATE_MACHINE_ARN: arn:aws:states:us-east-1:531868584498:stateMachine:dev-gfe-db-pipeline\n"
     ]
    }
   ],
   "source": [
    "print(f\"GITHUB_REPOSITORY_OWNER: {GITHUB_REPOSITORY_OWNER}\")\n",
    "print(f\"GITHUB_REPOSITORY_NAME: {GITHUB_REPOSITORY_NAME}\")\n",
    "print(f\"GFE_BUCKET: {GFE_BUCKET}\")\n",
    "print(f\"UPDATE_PIPELINE_STATE_MACHINE_ARN: {UPDATE_PIPELINE_STATE_MACHINE_ARN}\")"
   ]
  },
  {
   "cell_type": "markdown",
   "id": "874b85eb",
   "metadata": {},
   "source": [
    "## Utility Functions"
   ]
  },
  {
   "cell_type": "code",
   "execution_count": 5,
   "id": "6fe75420",
   "metadata": {},
   "outputs": [],
   "source": [
    "def get_branches(owner, repo):\n",
    "    \"\"\"Return a list of GitHub branches for the specified repository\"\"\"\n",
    "\n",
    "    base_url = 'https://api.github.com'\n",
    "\n",
    "    # Endpoint\n",
    "    endpoint = f'/repos/{owner}/{repo}/branches?per_page=100'\n",
    "\n",
    "    url = base_url + endpoint\n",
    "\n",
    "    # Headers\n",
    "    headers = {\n",
    "        'Authorization': f'token {GITHUB_PERSONAL_ACCESS_TOKEN}', \n",
    "        'Content-Type': 'application/json',\n",
    "        'Accept': 'application/vnd.github.v3+json'\n",
    "    }\n",
    "    \n",
    "    response = requests.get(url)\n",
    "    branches = json.loads(response.content)\n",
    "    \n",
    "    return [branch[\"name\"] for branch in branches]"
   ]
  },
  {
   "cell_type": "code",
   "execution_count": 6,
   "id": "debb71e1",
   "metadata": {},
   "outputs": [],
   "source": [
    "def is_valid_release(branch):\n",
    "    \"\"\"Returns True if the branch is a valid release, False if not\"\"\"\n",
    "\n",
    "    # Checks for a pattern corresponding to 3 digits followed by one zero, ie., 3460\n",
    "    release_pattern = r'^\\d{3}0$'\n",
    "    p = re.compile(release_pattern)\n",
    "    match = p.match(branch)\n",
    "\n",
    "    if match:\n",
    "        return True\n",
    "    else:\n",
    "        return False"
   ]
  },
  {
   "cell_type": "code",
   "execution_count": 7,
   "id": "7a4ea042",
   "metadata": {},
   "outputs": [],
   "source": [
    "def get_releases(owner, repo):\n",
    "    return list(filter(is_valid_release, get_branches(owner, repo)))"
   ]
  },
  {
   "cell_type": "code",
   "execution_count": 31,
   "id": "0eeec11e",
   "metadata": {},
   "outputs": [],
   "source": [
    "def write_config(path):\n",
    "    \"\"\"Writes config file containing the current state of branches in \n",
    "    a GitHub repo\"\"\"\n",
    "    \n",
    "    branches_config = {\n",
    "        \"timestamp\": str(datetime.datetime.utcnow())[:-7],\n",
    "        \"repository_url\": f\"https://github.com/{GITHUB_REPOSITORY_OWNER}/{GITHUB_REPOSITORY_NAME}\",\n",
    "        \"releases\": get_releases(GITHUB_REPOSITORY_OWNER, GITHUB_REPOSITORY_NAME)[:-1]\n",
    "    }\n",
    "    \n",
    "    s3_key = \"/\".join(path.split(\"/\")[3:])\n",
    "    \n",
    "    # Reconstructs the path and logs it to make sure it is correct\n",
    "    validation_path = \"/\".join([\"s3:/\", GFE_BUCKET, key])\n",
    "    \n",
    "    try:\n",
    "        print(f'Writing to {validation_path}')\n",
    "        response = s3.put_object(\n",
    "             Body=json.dumps(branches_config),\n",
    "             Bucket=GFE_BUCKET,\n",
    "             Key=s3_key)\n",
    "        \n",
    "        if response['ResponseMetadata']['HTTPStatusCode'] == 200:\n",
    "            print(f\"HTTPStatusCode: {response['ResponseMetadata']['HTTPStatusCode']}\")\n",
    "            return\n",
    "        else:\n",
    "            print(f'Failed to write config file to {path}. HTTPStatusCode: {response[\"ResponseMetadata\"][\"HTTPStatusCode\"]}')\n",
    "            return\n",
    "        \n",
    "    except Exception as err:\n",
    "        raise err"
   ]
  },
  {
   "cell_type": "code",
   "execution_count": 32,
   "id": "9bff4c68",
   "metadata": {},
   "outputs": [
    {
     "name": "stdout",
     "output_type": "stream",
     "text": [
      "Writing to s3://dev-gfe-db-531868584498-us-east-1/config/trigger/IMGTHLA-repository-state.json\n",
      "HTTPStatusCode: 200\n"
     ]
    }
   ],
   "source": [
    "s3 = boto3.client('s3')\n",
    "path = f\"s3://{GFE_BUCKET}/config/trigger/IMGTHLA-repository-state.json\"\n",
    "response = write_config(path)"
   ]
  },
  {
   "cell_type": "code",
   "execution_count": 33,
   "id": "567e4041",
   "metadata": {},
   "outputs": [],
   "source": [
    "def read_config(path):\n",
    "    \"\"\"Reads config file containing the current state of branches in \n",
    "    a GitHub repo\"\"\"\n",
    "    \n",
    "    s3_key = \"/\".join(path.split(\"/\")[3:])\n",
    "    \n",
    "    # Reconstructs the path and logs it to make sure it is correct\n",
    "    validation_path = \"/\".join([\"s3:/\", GFE_BUCKET, key])\n",
    "    \n",
    "    try:\n",
    "        print(f'Writing to {validation_path}')\n",
    "        response = s3.get_object(\n",
    "            Bucket=GFE_BUCKET, \n",
    "            Key=s3_key)\n",
    "        \n",
    "        if response['ResponseMetadata']['HTTPStatusCode'] == 200:\n",
    "            print(f\"Read config file from {path}\")\n",
    "            return json.loads(response[\"Body\"].read().decode())\n",
    "        else:\n",
    "            print(f'Failed to read config file to {path}. HTTPStatusCode: {response[\"ResponseMetadata\"][\"HTTPStatusCode\"]}')\n",
    "            return\n",
    "        \n",
    "    except Exception as err:\n",
    "        raise err"
   ]
  },
  {
   "cell_type": "code",
   "execution_count": 34,
   "id": "8804ad60",
   "metadata": {},
   "outputs": [],
   "source": [
    "def check_new_releases(previous_state, current_state):\n",
    "    \"\"\"Checks for new IMGT/HLA releases and triggers the update\n",
    "    pipeline if any are found\"\"\"\n",
    "\n",
    "    # Check if any branches have been added\n",
    "    new_branches_count = len(current_state) - len(previous_state)\n",
    "    branches_added = (new_branches_count > 0)\n",
    "\n",
    "    if branches_added:\n",
    "\n",
    "        print(f\"New branches: {current_state[-new_branches_count:]}\")\n",
    "\n",
    "        # Get the new branches\n",
    "        new_releases = sorted([int(release) for release in list(set(current_state).difference(previous_state))])\n",
    "        last_release = [int(previous_state[-1])]\n",
    "\n",
    "        # Check that the last release and the new releases differ by 10\n",
    "        elementwise_difference = list(set(np.diff([release for release in last_release + new_releases])))\n",
    "        new_branches_are_valid_releases = (len(elementwise_difference) == 1 and elementwise_difference[0] == 10)\n",
    "\n",
    "        if new_branches_are_valid_releases:\n",
    "            \n",
    "            return new_releases\n",
    "    else:\n",
    "        print(\"No new branches detected\")\n",
    "        \n",
    "        return"
   ]
  },
  {
   "cell_type": "code",
   "execution_count": 35,
   "id": "47c222ed",
   "metadata": {},
   "outputs": [],
   "source": [
    "def check_current_executions(state_machine_arn):\n",
    "    \n",
    "    response = sfn.list_executions(\n",
    "        stateMachineArn=state_machine_arn,\n",
    "        statusFilter='RUNNING')\n",
    "\n",
    "    # Extract executions\n",
    "    executions_arns = [execution['executionArn'] for execution in response['executions']]\n",
    "    \n",
    "    releases_processing = []\n",
    "\n",
    "    for executions_arn in executions_arns:\n",
    "\n",
    "        response = sfn.describe_execution(\n",
    "            executionArn=executions_arn)\n",
    "\n",
    "        releases_processing = releases_processing + [params[\"RELEASES\"] for params in json.loads(response['input'])]\n",
    "\n",
    "    return releases_processing\n",
    "    "
   ]
  },
  {
   "cell_type": "code",
   "execution_count": 40,
   "id": "1e3d1fa5",
   "metadata": {},
   "outputs": [],
   "source": [
    "branches_config = {\n",
    "    \"timestamp\": str(datetime.datetime.utcnow())[:-7],\n",
    "    \"repository_url\": f\"https://github.com/{GITHUB_REPOSITORY_OWNER}/{GITHUB_REPOSITORY_NAME}\",\n",
    "    \"releases\": get_releases(GITHUB_REPOSITORY_OWNER, GITHUB_REPOSITORY_NAME)[:-1]\n",
    "}"
   ]
  },
  {
   "cell_type": "code",
   "execution_count": 41,
   "id": "13b555f2",
   "metadata": {},
   "outputs": [
    {
     "data": {
      "text/plain": [
       "'{\"timestamp\": \"2021-12-09 02:36:59\", \"repository_url\": \"https://github.com/ANHIG/IMGTHLA\", \"releases\": [\"3100\", \"3110\", \"3120\", \"3130\", \"3140\", \"3150\", \"3160\", \"3170\", \"3180\", \"3190\", \"3200\", \"3210\", \"3220\", \"3230\", \"3240\", \"3250\", \"3260\", \"3270\", \"3280\", \"3290\", \"3300\", \"3310\", \"3320\", \"3330\", \"3340\", \"3350\", \"3360\", \"3370\", \"3380\", \"3390\", \"3400\", \"3410\", \"3420\", \"3430\", \"3440\", \"3450\"]}'"
      ]
     },
     "execution_count": 41,
     "metadata": {},
     "output_type": "execute_result"
    }
   ],
   "source": [
    "json.dumps(branches_config)"
   ]
  },
  {
   "cell_type": "code",
   "execution_count": null,
   "id": "07c0275e",
   "metadata": {},
   "outputs": [],
   "source": []
  },
  {
   "cell_type": "markdown",
   "id": "39db89e2",
   "metadata": {},
   "source": [
    "## Compare previous repo state with current repo state\n",
    "- Fetch the previous list of branches\n",
    "- Fetch the current list of branches\n",
    "- Compare"
   ]
  },
  {
   "cell_type": "code",
   "execution_count": 37,
   "id": "233575f0",
   "metadata": {},
   "outputs": [],
   "source": [
    "s3 = boto3.client('s3')\n",
    "sfn = boto3.client('stepfunctions')"
   ]
  },
  {
   "cell_type": "code",
   "execution_count": 38,
   "id": "3ed81143",
   "metadata": {},
   "outputs": [
    {
     "name": "stdout",
     "output_type": "stream",
     "text": [
      "Writing to s3://dev-gfe-db-531868584498-us-east-1/config/trigger/IMGTHLA-repository-state.json\n",
      "HTTPStatusCode: 200\n"
     ]
    }
   ],
   "source": [
    "path = f\"s3://{GFE_BUCKET}/config/trigger/IMGTHLA-repository-state.json\"\n",
    "response = write_config(path)"
   ]
  },
  {
   "cell_type": "code",
   "execution_count": 39,
   "id": "17328032",
   "metadata": {},
   "outputs": [
    {
     "name": "stdout",
     "output_type": "stream",
     "text": [
      "Writing to s3://dev-gfe-db-531868584498-us-east-1/config/trigger/IMGTHLA-repository-state.json\n",
      "Read config file from s3://dev-gfe-db-531868584498-us-east-1/config/trigger/IMGTHLA-repository-state.json\n",
      "Writing to s3://dev-gfe-db-531868584498-us-east-1/config/trigger/IMGTHLA-repository-state.json\n"
     ]
    },
    {
     "ename": "NoSuchKey",
     "evalue": "An error occurred (NoSuchKey) when calling the GetObject operation: The specified key does not exist.",
     "output_type": "error",
     "traceback": [
      "\u001b[0;31m---------------------------------------------------------------------------\u001b[0m",
      "\u001b[0;31mNoSuchKey\u001b[0m                                 Traceback (most recent call last)",
      "\u001b[0;32m/var/folders/7f/f09yyyys1p174l_h1fb1h_8m0000gn/T/ipykernel_54722/1708676090.py\u001b[0m in \u001b[0;36m<module>\u001b[0;34m\u001b[0m\n\u001b[1;32m      3\u001b[0m \u001b[0;34m\u001b[0m\u001b[0m\n\u001b[1;32m      4\u001b[0m \u001b[0mparams_path\u001b[0m \u001b[0;34m=\u001b[0m \u001b[0;34mf\"s3://{GFE_BUCKET}/config/pipeline/params.json\"\u001b[0m\u001b[0;34m\u001b[0m\u001b[0;34m\u001b[0m\u001b[0m\n\u001b[0;32m----> 5\u001b[0;31m \u001b[0mparams\u001b[0m \u001b[0;34m=\u001b[0m \u001b[0mread_config\u001b[0m\u001b[0;34m(\u001b[0m\u001b[0mparams_path\u001b[0m\u001b[0;34m)\u001b[0m\u001b[0;34m\u001b[0m\u001b[0;34m\u001b[0m\u001b[0m\n\u001b[0m",
      "\u001b[0;32m/var/folders/7f/f09yyyys1p174l_h1fb1h_8m0000gn/T/ipykernel_54722/1844522198.py\u001b[0m in \u001b[0;36mread_config\u001b[0;34m(path)\u001b[0m\n\u001b[1;32m     22\u001b[0m \u001b[0;34m\u001b[0m\u001b[0m\n\u001b[1;32m     23\u001b[0m     \u001b[0;32mexcept\u001b[0m \u001b[0mException\u001b[0m \u001b[0;32mas\u001b[0m \u001b[0merr\u001b[0m\u001b[0;34m:\u001b[0m\u001b[0;34m\u001b[0m\u001b[0;34m\u001b[0m\u001b[0m\n\u001b[0;32m---> 24\u001b[0;31m         \u001b[0;32mraise\u001b[0m \u001b[0merr\u001b[0m\u001b[0;34m\u001b[0m\u001b[0;34m\u001b[0m\u001b[0m\n\u001b[0m",
      "\u001b[0;32m/var/folders/7f/f09yyyys1p174l_h1fb1h_8m0000gn/T/ipykernel_54722/1844522198.py\u001b[0m in \u001b[0;36mread_config\u001b[0;34m(path)\u001b[0m\n\u001b[1;32m     10\u001b[0m     \u001b[0;32mtry\u001b[0m\u001b[0;34m:\u001b[0m\u001b[0;34m\u001b[0m\u001b[0;34m\u001b[0m\u001b[0m\n\u001b[1;32m     11\u001b[0m         \u001b[0mprint\u001b[0m\u001b[0;34m(\u001b[0m\u001b[0;34mf'Writing to {validation_path}'\u001b[0m\u001b[0;34m)\u001b[0m\u001b[0;34m\u001b[0m\u001b[0;34m\u001b[0m\u001b[0m\n\u001b[0;32m---> 12\u001b[0;31m         response = s3.get_object(\n\u001b[0m\u001b[1;32m     13\u001b[0m             \u001b[0mBucket\u001b[0m\u001b[0;34m=\u001b[0m\u001b[0mGFE_BUCKET\u001b[0m\u001b[0;34m,\u001b[0m\u001b[0;34m\u001b[0m\u001b[0;34m\u001b[0m\u001b[0m\n\u001b[1;32m     14\u001b[0m             Key=s3_key)\n",
      "\u001b[0;32m~/Documents/00-Projects/nmdp-bioinformatics/02-Repositories/gfe-db/gfe-db/pipeline/functions/trigger/.venv/lib/python3.8/site-packages/botocore/client.py\u001b[0m in \u001b[0;36m_api_call\u001b[0;34m(self, *args, **kwargs)\u001b[0m\n\u001b[1;32m    389\u001b[0m                     \"%s() only accepts keyword arguments.\" % py_operation_name)\n\u001b[1;32m    390\u001b[0m             \u001b[0;31m# The \"self\" in this scope is referring to the BaseClient.\u001b[0m\u001b[0;34m\u001b[0m\u001b[0;34m\u001b[0m\u001b[0;34m\u001b[0m\u001b[0m\n\u001b[0;32m--> 391\u001b[0;31m             \u001b[0;32mreturn\u001b[0m \u001b[0mself\u001b[0m\u001b[0;34m.\u001b[0m\u001b[0m_make_api_call\u001b[0m\u001b[0;34m(\u001b[0m\u001b[0moperation_name\u001b[0m\u001b[0;34m,\u001b[0m \u001b[0mkwargs\u001b[0m\u001b[0;34m)\u001b[0m\u001b[0;34m\u001b[0m\u001b[0;34m\u001b[0m\u001b[0m\n\u001b[0m\u001b[1;32m    392\u001b[0m \u001b[0;34m\u001b[0m\u001b[0m\n\u001b[1;32m    393\u001b[0m         \u001b[0m_api_call\u001b[0m\u001b[0;34m.\u001b[0m\u001b[0m__name__\u001b[0m \u001b[0;34m=\u001b[0m \u001b[0mstr\u001b[0m\u001b[0;34m(\u001b[0m\u001b[0mpy_operation_name\u001b[0m\u001b[0;34m)\u001b[0m\u001b[0;34m\u001b[0m\u001b[0;34m\u001b[0m\u001b[0m\n",
      "\u001b[0;32m~/Documents/00-Projects/nmdp-bioinformatics/02-Repositories/gfe-db/gfe-db/pipeline/functions/trigger/.venv/lib/python3.8/site-packages/botocore/client.py\u001b[0m in \u001b[0;36m_make_api_call\u001b[0;34m(self, operation_name, api_params)\u001b[0m\n\u001b[1;32m    717\u001b[0m             \u001b[0merror_code\u001b[0m \u001b[0;34m=\u001b[0m \u001b[0mparsed_response\u001b[0m\u001b[0;34m.\u001b[0m\u001b[0mget\u001b[0m\u001b[0;34m(\u001b[0m\u001b[0;34m\"Error\"\u001b[0m\u001b[0;34m,\u001b[0m \u001b[0;34m{\u001b[0m\u001b[0;34m}\u001b[0m\u001b[0;34m)\u001b[0m\u001b[0;34m.\u001b[0m\u001b[0mget\u001b[0m\u001b[0;34m(\u001b[0m\u001b[0;34m\"Code\"\u001b[0m\u001b[0;34m)\u001b[0m\u001b[0;34m\u001b[0m\u001b[0;34m\u001b[0m\u001b[0m\n\u001b[1;32m    718\u001b[0m             \u001b[0merror_class\u001b[0m \u001b[0;34m=\u001b[0m \u001b[0mself\u001b[0m\u001b[0;34m.\u001b[0m\u001b[0mexceptions\u001b[0m\u001b[0;34m.\u001b[0m\u001b[0mfrom_code\u001b[0m\u001b[0;34m(\u001b[0m\u001b[0merror_code\u001b[0m\u001b[0;34m)\u001b[0m\u001b[0;34m\u001b[0m\u001b[0;34m\u001b[0m\u001b[0m\n\u001b[0;32m--> 719\u001b[0;31m             \u001b[0;32mraise\u001b[0m \u001b[0merror_class\u001b[0m\u001b[0;34m(\u001b[0m\u001b[0mparsed_response\u001b[0m\u001b[0;34m,\u001b[0m \u001b[0moperation_name\u001b[0m\u001b[0;34m)\u001b[0m\u001b[0;34m\u001b[0m\u001b[0;34m\u001b[0m\u001b[0m\n\u001b[0m\u001b[1;32m    720\u001b[0m         \u001b[0;32melse\u001b[0m\u001b[0;34m:\u001b[0m\u001b[0;34m\u001b[0m\u001b[0;34m\u001b[0m\u001b[0m\n\u001b[1;32m    721\u001b[0m             \u001b[0;32mreturn\u001b[0m \u001b[0mparsed_response\u001b[0m\u001b[0;34m\u001b[0m\u001b[0;34m\u001b[0m\u001b[0m\n",
      "\u001b[0;31mNoSuchKey\u001b[0m: An error occurred (NoSuchKey) when calling the GetObject operation: The specified key does not exist."
     ]
    }
   ],
   "source": [
    "branches_config_path = f\"s3://{GFE_BUCKET}/config/trigger/IMGTHLA-repository-state.json\"\n",
    "branches_config = read_config(branches_config_path)\n",
    "\n",
    "params_path = f\"s3://{GFE_BUCKET}/config/pipeline/params.json\"\n",
    "params = read_config(params_path)"
   ]
  },
  {
   "cell_type": "code",
   "execution_count": 22,
   "id": "389a0566",
   "metadata": {},
   "outputs": [
    {
     "data": {
      "text/plain": [
       "{'params': {'environment': {'ALIGN': 'False',\n",
       "   'KIR': 'False',\n",
       "   'MEM_PROFILE': 'False',\n",
       "   'LIMIT': '100'}}}"
      ]
     },
     "execution_count": 22,
     "metadata": {},
     "output_type": "execute_result"
    }
   ],
   "source": [
    "params"
   ]
  },
  {
   "cell_type": "code",
   "execution_count": 23,
   "id": "20e1b85d",
   "metadata": {},
   "outputs": [],
   "source": [
    "# Set up test conditions for different repo states (no new releases, one, two or three new releases)\n",
    "test_conditions = {\n",
    "    \"condition1\": previous_state[\"releases\"],\n",
    "    \"condition2\": previous_state[\"releases\"][:-1],\n",
    "    \"condition3\": previous_state[\"releases\"][:-2],\n",
    "    \"condition4\": previous_state[\"releases\"][:-3],\n",
    "}"
   ]
  },
  {
   "cell_type": "code",
   "execution_count": 24,
   "id": "9b0475cf",
   "metadata": {},
   "outputs": [],
   "source": [
    "current_state = get_releases(GITHUB_REPOSITORY_OWNER, GITHUB_REPOSITORY_NAME)"
   ]
  },
  {
   "cell_type": "code",
   "execution_count": 25,
   "id": "4c797d4c",
   "metadata": {},
   "outputs": [
    {
     "name": "stdout",
     "output_type": "stream",
     "text": [
      "No new branches detected\n",
      "\n",
      "\n",
      "New branches: ['3460']\n",
      "Pipeline triggered:\n",
      "{'ALIGN': 'False', 'KIR': 'False', 'MEM_PROFILE': 'False', 'LIMIT': '100', 'RELEASES': 3460}\n",
      "\n",
      "\n",
      "New branches: ['3450', '3460']\n",
      "Pipeline triggered:\n",
      "{'ALIGN': 'False', 'KIR': 'False', 'MEM_PROFILE': 'False', 'LIMIT': '100', 'RELEASES': 3450}\n",
      "{'ALIGN': 'False', 'KIR': 'False', 'MEM_PROFILE': 'False', 'LIMIT': '100', 'RELEASES': 3460}\n",
      "\n",
      "\n",
      "New branches: ['3440', '3450', '3460']\n",
      "Pipeline triggered:\n",
      "{'ALIGN': 'False', 'KIR': 'False', 'MEM_PROFILE': 'False', 'LIMIT': '100', 'RELEASES': 3440}\n",
      "{'ALIGN': 'False', 'KIR': 'False', 'MEM_PROFILE': 'False', 'LIMIT': '100', 'RELEASES': 3450}\n",
      "{'ALIGN': 'False', 'KIR': 'False', 'MEM_PROFILE': 'False', 'LIMIT': '100', 'RELEASES': 3460}\n",
      "\n",
      "\n"
     ]
    }
   ],
   "source": [
    "# for loop is for testing different conditions\n",
    "for condition, state in test_conditions.items():\n",
    "    new_releases = check_new_releases(state, current_state)\n",
    "    \n",
    "    if new_releases:\n",
    "    \n",
    "        print(f'Pipeline triggered:')\n",
    "\n",
    "        state_machine_input = []\n",
    "\n",
    "        for release in new_releases:\n",
    "            \n",
    "            params_input = copy.deepcopy(params[\"params\"][\"environment\"])\n",
    "            params_input[\"RELEASES\"] = release\n",
    "            print(f'{params_input}')            \n",
    "            state_machine_input.append(params_input)\n",
    "        \n",
    "    print(\"\\n\")"
   ]
  },
  {
   "cell_type": "code",
   "execution_count": 18,
   "id": "5016b3ed",
   "metadata": {},
   "outputs": [
    {
     "data": {
      "text/plain": [
       "[{'ALIGN': 'False',\n",
       "  'KIR': 'False',\n",
       "  'MEM_PROFILE': 'False',\n",
       "  'LIMIT': '100',\n",
       "  'RELEASES': 3440},\n",
       " {'ALIGN': 'False',\n",
       "  'KIR': 'False',\n",
       "  'MEM_PROFILE': 'False',\n",
       "  'LIMIT': '100',\n",
       "  'RELEASES': 3450},\n",
       " {'ALIGN': 'False',\n",
       "  'KIR': 'False',\n",
       "  'MEM_PROFILE': 'False',\n",
       "  'LIMIT': '100',\n",
       "  'RELEASES': 3460}]"
      ]
     },
     "execution_count": 18,
     "metadata": {},
     "output_type": "execute_result"
    }
   ],
   "source": [
    "state_machine_input"
   ]
  },
  {
   "cell_type": "code",
   "execution_count": 19,
   "id": "ec7ab92c",
   "metadata": {},
   "outputs": [
    {
     "data": {
      "text/plain": [
       "[{'ALIGN': 'False',\n",
       "  'KIR': 'False',\n",
       "  'MEM_PROFILE': 'False',\n",
       "  'LIMIT': '100',\n",
       "  'RELEASES': 3440},\n",
       " {'ALIGN': 'False',\n",
       "  'KIR': 'False',\n",
       "  'MEM_PROFILE': 'False',\n",
       "  'LIMIT': '100',\n",
       "  'RELEASES': 3450},\n",
       " {'ALIGN': 'False',\n",
       "  'KIR': 'False',\n",
       "  'MEM_PROFILE': 'False',\n",
       "  'LIMIT': '100',\n",
       "  'RELEASES': 3460}]"
      ]
     },
     "execution_count": 19,
     "metadata": {},
     "output_type": "execute_result"
    }
   ],
   "source": [
    "state_machine_input"
   ]
  },
  {
   "cell_type": "code",
   "execution_count": 11,
   "id": "0e37252a",
   "metadata": {},
   "outputs": [
    {
     "ename": "NameError",
     "evalue": "name 'branches_config_path' is not defined",
     "output_type": "error",
     "traceback": [
      "\u001b[0;31m---------------------------------------------------------------------------\u001b[0m",
      "\u001b[0;31mNameError\u001b[0m                                 Traceback (most recent call last)",
      "\u001b[0;32m/var/folders/7f/f09yyyys1p174l_h1fb1h_8m0000gn/T/ipykernel_52729/3156673809.py\u001b[0m in \u001b[0;36m<module>\u001b[0;34m\u001b[0m\n\u001b[0;32m----> 1\u001b[0;31m \u001b[0mwrite_config\u001b[0m\u001b[0;34m(\u001b[0m\u001b[0mbranches_config_path\u001b[0m\u001b[0;34m)\u001b[0m\u001b[0;34m\u001b[0m\u001b[0;34m\u001b[0m\u001b[0m\n\u001b[0m",
      "\u001b[0;31mNameError\u001b[0m: name 'branches_config_path' is not defined"
     ]
    }
   ],
   "source": [
    "write_config(branches_config_path)"
   ]
  },
  {
   "cell_type": "code",
   "execution_count": 42,
   "id": "0f4ac73e",
   "metadata": {},
   "outputs": [
    {
     "data": {
      "text/plain": [
       "'{\"ALIGN\": \"False\", \"KIR\": \"False\", \"MEM_PROFILE\": \"False\", \"LIMIT\": \"100\", \"RELEASES\": 3460}'"
      ]
     },
     "execution_count": 42,
     "metadata": {},
     "output_type": "execute_result"
    }
   ],
   "source": [
    "json.dumps({'ALIGN': 'False', 'KIR': 'False', 'MEM_PROFILE': 'False', 'LIMIT': '100', 'RELEASES': 3460})"
   ]
  },
  {
   "cell_type": "code",
   "execution_count": null,
   "id": "e1cbfbf6",
   "metadata": {},
   "outputs": [],
   "source": []
  }
 ],
 "metadata": {
  "kernelspec": {
   "display_name": "gfe-db-trigger",
   "language": "python",
   "name": "gfe-db-trigger"
  },
  "language_info": {
   "codemirror_mode": {
    "name": "ipython",
    "version": 3
   },
   "file_extension": ".py",
   "mimetype": "text/x-python",
   "name": "python",
   "nbconvert_exporter": "python",
   "pygments_lexer": "ipython3",
   "version": "3.8.8"
  }
 },
 "nbformat": 4,
 "nbformat_minor": 5
}
