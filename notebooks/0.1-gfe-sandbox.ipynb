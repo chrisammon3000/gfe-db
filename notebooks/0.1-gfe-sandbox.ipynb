{
 "cells": [
  {
   "cell_type": "markdown",
   "metadata": {},
   "source": [
    "# Setup"
   ]
  },
  {
   "cell_type": "code",
   "execution_count": 1,
   "metadata": {},
   "outputs": [],
   "source": [
    "import os\n",
    "import sys\n",
    "sys.path[0] = '../'\n",
    "import logging\n",
    "from Bio import SeqIO\n",
    "from pyard import ARD\n",
    "\n",
    "import pandas as pd\n",
    "pd.set_option('display.max_rows', 500)\n",
    "pd.set_option('display.max_columns', 500)\n",
    "pd.set_option('display.width', 1000)\n",
    "\n",
    "from bin.build_gfedb import *"
   ]
  },
  {
   "cell_type": "code",
   "execution_count": 16,
   "metadata": {},
   "outputs": [],
   "source": [
    "# Notebook config\n",
    "%config IPCompleter.greedy=True"
   ]
  },
  {
   "cell_type": "markdown",
   "metadata": {},
   "source": [
    "# Environment"
   ]
  },
  {
   "cell_type": "code",
   "execution_count": 2,
   "metadata": {},
   "outputs": [],
   "source": [
    "imgt_hla = 'https://www.ebi.ac.uk/ipd/imgt/hla/docs/release.html'\n",
    "imgt_hla_media_url = 'https://media.githubusercontent.com/media/ANHIG/IMGTHLA/'\n",
    "imgt_hla_raw_url = 'https://raw.githubusercontent.com/ANHIG/IMGTHLA/'\n",
    "\n",
    "imgt_kir = 'https://www.ebi.ac.uk/ipd/kir/docs/version.html'\n",
    "kir_url = 'ftp://ftp.ebi.ac.uk/pub/databases/ipd/kir/KIR.dat'\n",
    "\n",
    "\n",
    "data_dir = \"../../data/\" #os.path.dirname(__file__) + \"/../../data/\"\n",
    "\n",
    "expre_chars = ['N', 'Q', 'L', 'S']"
   ]
  },
  {
   "cell_type": "code",
   "execution_count": 3,
   "metadata": {},
   "outputs": [],
   "source": [
    "lastseqid = 1\n",
    "lastid = 1\n",
    "lastcdsid = 1\n",
    "\n",
    "seqids = {}\n",
    "cdsids = {}\n",
    "alleleids = {}\n",
    "group_edges = {}\n",
    "trans_edges = {}\n",
    "\n",
    "# The alleles are removed when the allele_nodes.csv is built\n",
    "skip_alleles = [\"HLA-DRB5*01:11\", \"HLA-DRB5*01:12\", \"HLA-DRB5*01:13\",\n",
    "                \"HLA-DRB5*02:03\", \"HLA-DRB5*02:04\", \"HLA-DRB5*02:05\",\n",
    "                \"HLA-DRB5*01:01:02\", \"HLA-DRB5*01:03\", \"HLA-DRB5*01:05\",\n",
    "                \"HLA-DRB5*01:06\", \"HLA-DRB5*01:07\", \"HLA-DRB5*01:09\",\n",
    "                \"HLA-DRB5*01:10N\", \"HLA-C*05:208N\", \"HLA-C*05:206\"]\n",
    "\n",
    "hla_loci = ['HLA-A', 'HLA-B', 'HLA-C', 'HLA-DRB1', 'HLA-DQB1',\n",
    "            'HLA-DPB1', 'HLA-DQA1', 'HLA-DPA1', 'HLA-DRB3',\n",
    "            'HLA-DRB4', 'HLA-DRB5']\n",
    "\n",
    "hla_align = ['HLA-A', 'HLA-B', 'HLA-C', 'HLA-DRB1', 'HLA-DQB1',\n",
    "             'HLA-DPB1', 'HLA-DQA1', 'HLA-DPA1']\n",
    "\n",
    "kir_loci = [\"KIR3DS1\", \"KIR3DP1\", \"KIR3DL3\", \"KIR3DL2\", \"KIR3DL1\",\n",
    "            \"KIR2DS5\", \"KIR2DS4\", \"KIR2DS3\", \"KIR2DS2\", \"KIR2DS1\",\n",
    "            \"KIR2DP1\", \"KIR2DL5B\", \"KIR2DL5A\", \"KIR2DL4\"]\n",
    "\n",
    "kir_aligloci = [\"KIR2DL4\", \"KIR2DP1\", \"KIR2DS1\", \"KIR2DS2\", \"KIR2DS3\",\n",
    "                \"KIR2DS4\", \"KIR2DS5\", \"KIR3DL1\", \"KIR3DL2\", \"KIR3DL3\",\n",
    "                \"KIR3DP1\"]\n",
    "\n",
    "ard_groups = ['G', 'lg', 'lgx']\n",
    "\n",
    "align = True"
   ]
  },
  {
   "cell_type": "code",
   "execution_count": 4,
   "metadata": {},
   "outputs": [],
   "source": [
    "kir = None\n",
    "\n",
    "if kir:\n",
    "    load_loci = hla_loci + kir_loci\n",
    "else:\n",
    "    load_loci = hla_loci\n",
    "\n",
    "from seqann import gfe\n",
    "gfe_maker = gfe.GFE(verbose=True, verbosity=2,\n",
    "                load_features=False, store_features=True,\n",
    "                loci=load_loci)"
   ]
  },
  {
   "cell_type": "markdown",
   "metadata": {},
   "source": [
    "# Run (1)"
   ]
  },
  {
   "cell_type": "code",
   "execution_count": 5,
   "metadata": {},
   "outputs": [],
   "source": [
    "dat_file = '../../data/hla.3360.dat'"
   ]
  },
  {
   "cell_type": "code",
   "execution_count": 6,
   "metadata": {},
   "outputs": [],
   "source": [
    "ard_groups = ['G', 'lg', 'lgx']\n",
    "ard = ARD('3360')"
   ]
  },
  {
   "cell_type": "code",
   "execution_count": 7,
   "metadata": {},
   "outputs": [],
   "source": [
    "a_gen = SeqIO.parse(dat_file, \"imgt\")"
   ]
  },
  {
   "cell_type": "code",
   "execution_count": 97,
   "metadata": {
    "scrolled": false
   },
   "outputs": [
    {
     "name": "stderr",
     "output_type": "stream",
     "text": [
      "01/30/2021 01:41:11 PM - Logger.seqann.gfe - INFO - ID NA         - Storing new feature HLA-A:1:five_prime_UTR:CAGGAGCAGAGGGGTCAGGGCGAAGTCCCAGGGCCCCAGGCGTGGCTCTCAGGGTCTCAGGCCCCGAAGGCGGTGTATGGATTGGGGAGTCCCAGCCTTGGGGATTCCCCAACTCCGCAGTTTCTTTTCTCCCTCTCCCAACCTACGTAGGGTCCTTCATCCTGGATACTCACGACGCGGACCCAGTTCTCACTCCCATTGGGTGTCGGGTTTCCAGAGAAGCCAATCAGTGTCGTCGCGGTCGCTGTTCTAAAGTCCGCACGCACCCACCGGGACTCAGATTCTCCCCAGACGCCGAGG\n",
      "01/30/2021 01:41:11 PM - Logger.seqann.gfe - INFO - ID NA         - Updated * all_feats 0.0007 MB *\n"
     ]
    },
    {
     "name": "stdout",
     "output_type": "stream",
     "text": [
      "hla_name: HLA-A*01:01:01:01\n",
      "\n",
      "loc: HLA-A\n",
      "\n",
      "a_name: A*01:01:01:01\n",
      "\n",
      "groups: [['HLA-A*01:01:01G', 'G'], ['HLA-A*01:01g', 'lg'], ['HLA-A*01:01', 'lgx']]\n",
      "seco: [['A*01:01', '2nd_FIELD']]\n",
      "\n",
      "groups: [['HLA-A*01:01:01G', 'G'], ['HLA-A*01:01g', 'lg'], ['HLA-A*01:01', 'lgx'], ['A*01:01', '2nd_FIELD']]\n",
      "\n",
      "complete_annotation: {'five_prime_UTR': SeqRecord(seq=Seq('CAGGAGCAGAGGGGTCAGGGCGAAGTCCCAGGGCCCCAGGCGTGGCTCTCAGGG...AGG', IUPACAmbiguousDNA()), id='1', name='<unknown name>', description='<unknown description>', dbxrefs=[]), 'exon_1': SeqRecord(seq=Seq('ATGGCCGTCATGGCGCCCCGAACCCTCCTCCTGCTACTCTCGGGGGCCCTGGCC...CGG', IUPACAmbiguousDNA()), id='1', name='<unknown name>', description='<unknown description>', dbxrefs=[]), 'intron_1': SeqRecord(seq=Seq('GTGAGTGCGGGGTCGGGAGGGAAACCGCCTCTGCGGGGAGAAGCAAGGGGCCCT...CAG', IUPACAmbiguousDNA()), id='1', name='<unknown name>', description='<unknown description>', dbxrefs=[]), 'exon_2': SeqRecord(seq=Seq('GCTCCCACTCCATGAGGTATTTCTTCACATCCGTGTCCCGGCCCGGCCGCGGGG...ACG', IUPACAmbiguousDNA()), id='1', name='<unknown name>', description='<unknown description>', dbxrefs=[]), 'intron_2': SeqRecord(seq=Seq('GTGAGTGACCCCGGCCCGGGGCGCAGGTCACGACCCCTCATCCCCCACGGACGG...CAG', IUPACAmbiguousDNA()), id='1', name='<unknown name>', description='<unknown description>', dbxrefs=[]), 'exon_3': SeqRecord(seq=Seq('GTTCTCACACCATCCAGATAATGTATGGCTGCGACGTGGGGCCGGACGGGCGCT...CGG', IUPACAmbiguousDNA()), id='1', name='<unknown name>', description='<unknown description>', dbxrefs=[]), 'intron_3': SeqRecord(seq=Seq('GTACCAGGGGCCACGGGGCGCCTCCCTGATCGCCTATAGATCTCCCGGGCTGGC...CAG', IUPACAmbiguousDNA()), id='1', name='<unknown name>', description='<unknown description>', dbxrefs=[]), 'exon_4': SeqRecord(seq=Seq('ACCCCCCCAAGACACATATGACCCACCACCCCATCTCTGACCATGAGGCCACCC...GGG', IUPACAmbiguousDNA()), id='1', name='<unknown name>', description='<unknown description>', dbxrefs=[]), 'intron_4': SeqRecord(seq=Seq('GTAAGGAGGGAGATGGGGGTGTCATGTCTCTTAGGGAAAGCAGGAGCCTCTCTG...CAG', IUPACAmbiguousDNA()), id='1', name='<unknown name>', description='<unknown description>', dbxrefs=[]), 'exon_5': SeqRecord(seq=Seq('AGCTGTCTTCCCAGCCCACCATCCCCATCGTGGGCATCATTGCTGGCCTGGTTC...CAG', IUPACAmbiguousDNA()), id='1', name='<unknown name>', description='<unknown description>', dbxrefs=[]), 'intron_5': SeqRecord(seq=Seq('GTGGAGAAGGGGTGAAGGGTGGGGTCTGAGATTTCTTGTCTCACTGAGGGTTCC...CAG', IUPACAmbiguousDNA()), id='1', name='<unknown name>', description='<unknown description>', dbxrefs=[]), 'exon_6': SeqRecord(seq=Seq('ATAGAAAAGGAGGGAGTTACACTCAGGCTGCAA', IUPACAmbiguousDNA()), id='1', name='<unknown name>', description='<unknown description>', dbxrefs=[]), 'intron_6': SeqRecord(seq=Seq('GTAAGTATGAAGGAGGCTGATGCCTGAGGTCCTTGGGATATTGTGTTTGGGAGC...CAG', IUPACAmbiguousDNA()), id='1', name='<unknown name>', description='<unknown description>', dbxrefs=[]), 'exon_7': SeqRecord(seq=Seq('GCAGTGACAGTGCCCAGGGCTCTGATGTGTCTCTCACAGCTTGTAAAG', IUPACAmbiguousDNA()), id='1', name='<unknown name>', description='<unknown description>', dbxrefs=[]), 'intron_7': SeqRecord(seq=Seq('GTGAGAGCTTGGAGGGCCTGATGTGTGTTGGGTGTTGGGTGGAACAGTGGACAC...TAG', IUPACAmbiguousDNA()), id='1', name='<unknown name>', description='<unknown description>', dbxrefs=[]), 'exon_8': SeqRecord(seq=Seq('TGTGA', IUPACAmbiguousDNA()), id='1', name='<unknown name>', description='<unknown description>', dbxrefs=[]), 'three_prime_UTR': SeqRecord(seq=Seq('GACAGCTGCCTTGTGTGGGACTGAGAGGCAAGAGTTGTTCCTGCCCTTCCCTTT...AAA', IUPACAmbiguousDNA()), id='1', name='<unknown name>', description='<unknown description>', dbxrefs=[])}\n",
      "\n",
      "ann: {'aligned': '',\n",
      " 'ambig': None,\n",
      " 'annotation': {'exon_1': SeqRecord(seq=Seq('ATGGCCGTCATGGCGCCCCGAACCCTCCTCCTGCTACTCTCGGGGGCCCTGGCC...CGG', IUPACAmbiguousDNA()), id='1', name='<unknown name>', description='<unknown description>', dbxrefs=[]),\n",
      "                'exon_2': SeqRecord(seq=Seq('GCTCCCACTCCATGAGGTATTTCTTCACATCCGTGTCCCGGCCCGGCCGCGGGG...ACG', IUPACAmbiguousDNA()), id='1', name='<unknown name>', description='<unknown description>', dbxrefs=[]),\n",
      "                'exon_3': SeqRecord(seq=Seq('GTTCTCACACCATCCAGATAATGTATGGCTGCGACGTGGGGCCGGACGGGCGCT...CGG', IUPACAmbiguousDNA()), id='1', name='<unknown name>', description='<unknown description>', dbxrefs=[]),\n",
      "                'exon_4': SeqRecord(seq=Seq('ACCCCCCCAAGACACATATGACCCACCACCCCATCTCTGACCATGAGGCCACCC...GGG', IUPACAmbiguousDNA()), id='1', name='<unknown name>', description='<unknown description>', dbxrefs=[]),\n",
      "                'exon_5': SeqRecord(seq=Seq('AGCTGTCTTCCCAGCCCACCATCCCCATCGTGGGCATCATTGCTGGCCTGGTTC...CAG', IUPACAmbiguousDNA()), id='1', name='<unknown name>', description='<unknown description>', dbxrefs=[]),\n",
      "                'exon_6': SeqRecord(seq=Seq('ATAGAAAAGGAGGGAGTTACACTCAGGCTGCAA', IUPACAmbiguousDNA()), id='1', name='<unknown name>', description='<unknown description>', dbxrefs=[]),\n",
      "                'exon_7': SeqRecord(seq=Seq('GCAGTGACAGTGCCCAGGGCTCTGATGTGTCTCTCACAGCTTGTAAAG', IUPACAmbiguousDNA()), id='1', name='<unknown name>', description='<unknown description>', dbxrefs=[]),\n",
      "                'exon_8': SeqRecord(seq=Seq('TGTGA', IUPACAmbiguousDNA()), id='1', name='<unknown name>', description='<unknown description>', dbxrefs=[]),\n",
      "                'five_prime_UTR': SeqRecord(seq=Seq('CAGGAGCAGAGGGGTCAGGGCGAAGTCCCAGGGCCCCAGGCGTGGCTCTCAGGG...AGG', IUPACAmbiguousDNA()), id='1', name='<unknown name>', description='<unknown description>', dbxrefs=[]),\n",
      "                'intron_1': SeqRecord(seq=Seq('GTGAGTGCGGGGTCGGGAGGGAAACCGCCTCTGCGGGGAGAAGCAAGGGGCCCT...CAG', IUPACAmbiguousDNA()), id='1', name='<unknown name>', description='<unknown description>', dbxrefs=[]),\n",
      "                'intron_2': SeqRecord(seq=Seq('GTGAGTGACCCCGGCCCGGGGCGCAGGTCACGACCCCTCATCCCCCACGGACGG...CAG', IUPACAmbiguousDNA()), id='1', name='<unknown name>', description='<unknown description>', dbxrefs=[]),\n",
      "                'intron_3': SeqRecord(seq=Seq('GTACCAGGGGCCACGGGGCGCCTCCCTGATCGCCTATAGATCTCCCGGGCTGGC...CAG', IUPACAmbiguousDNA()), id='1', name='<unknown name>', description='<unknown description>', dbxrefs=[]),\n",
      "                'intron_4': SeqRecord(seq=Seq('GTAAGGAGGGAGATGGGGGTGTCATGTCTCTTAGGGAAAGCAGGAGCCTCTCTG...CAG', IUPACAmbiguousDNA()), id='1', name='<unknown name>', description='<unknown description>', dbxrefs=[]),\n",
      "                'intron_5': SeqRecord(seq=Seq('GTGGAGAAGGGGTGAAGGGTGGGGTCTGAGATTTCTTGTCTCACTGAGGGTTCC...CAG', IUPACAmbiguousDNA()), id='1', name='<unknown name>', description='<unknown description>', dbxrefs=[]),\n",
      "                'intron_6': SeqRecord(seq=Seq('GTAAGTATGAAGGAGGCTGATGCCTGAGGTCCTTGGGATATTGTGTTTGGGAGC...CAG', IUPACAmbiguousDNA()), id='1', name='<unknown name>', description='<unknown description>', dbxrefs=[]),\n",
      "                'intron_7': SeqRecord(seq=Seq('GTGAGAGCTTGGAGGGCCTGATGTGTGTTGGGTGTTGGGTGGAACAGTGGACAC...TAG', IUPACAmbiguousDNA()), id='1', name='<unknown name>', description='<unknown description>', dbxrefs=[]),\n",
      "                'three_prime_UTR': SeqRecord(seq=Seq('GACAGCTGCCTTGTGTGGGACTGAGAGGCAAGAGTTGTTCCTGCCCTTCCCTTT...AAA', IUPACAmbiguousDNA()), id='1', name='<unknown name>', description='<unknown description>', dbxrefs=[])},\n",
      " 'blocks': None,\n",
      " 'complete_annotation': True,\n",
      " 'covered': None,\n",
      " 'exact': False,\n",
      " 'exact_match': None,\n",
      " 'features': None,\n",
      " 'gfe': None,\n",
      " 'mapping': None,\n",
      " 'method': 'match',\n",
      " 'missing': None,\n",
      " 'refmissing': None,\n",
      " 'seq': None,\n",
      " 'structure': None}\n",
      "\n",
      "\n",
      "\n",
      "\n"
     ]
    },
    {
     "name": "stderr",
     "output_type": "stream",
     "text": [
      "01/30/2021 01:41:12 PM - Logger.seqann.gfe - INFO - ID NA         - Storing new feature HLA-A:1:exon:ATGGCCGTCATGGCGCCCCGAACCCTCCTCCTGCTACTCTCGGGGGCCCTGGCCCTGACCCAGACCTGGGCGG\n",
      "01/30/2021 01:41:12 PM - Logger.seqann.gfe - INFO - ID NA         - Updated * all_feats 0.0007 MB *\n",
      "01/30/2021 01:41:12 PM - Logger.seqann.gfe - INFO - ID NA         - Storing new feature HLA-A:1:intron:GTGAGTGCGGGGTCGGGAGGGAAACCGCCTCTGCGGGGAGAAGCAAGGGGCCCTCCTGGCGGGGGCGCAGGACCGGGGGAGCCGCGCCGGGAGGAGGGTCGGGCAGGTCTCAGCCACTGCTCGCCCCCAG\n",
      "01/30/2021 01:41:12 PM - Logger.seqann.gfe - INFO - ID NA         - Updated * all_feats 0.0007 MB *\n",
      "01/30/2021 01:41:12 PM - Logger.seqann.gfe - INFO - ID NA         - Storing new feature HLA-A:2:exon:GCTCCCACTCCATGAGGTATTTCTTCACATCCGTGTCCCGGCCCGGCCGCGGGGAGCCCCGCTTCATCGCCGTGGGCTACGTGGACGACACGCAGTTCGTGCGGTTCGACAGCGACGCCGCGAGCCAGAAGATGGAGCCGCGGGCGCCGTGGATAGAGCAGGAGGGGCCGGAGTATTGGGACCAGGAGACACGGAATATGAAGGCCCACTCACAGACTGACCGAGCGAACCTGGGGACCCTGCGCGGCTACTACAACCAGAGCGAGGACG\n",
      "01/30/2021 01:41:12 PM - Logger.seqann.gfe - INFO - ID NA         - Updated * all_feats 0.0007 MB *\n",
      "01/30/2021 01:41:12 PM - Logger.seqann.gfe - INFO - ID NA         - Storing new feature HLA-A:2:intron:GTGAGTGACCCCGGCCCGGGGCGCAGGTCACGACCCCTCATCCCCCACGGACGGGCCAGGTCGCCCACAGTCTCCGGGTCCGAGATCCACCCCGAAGCCGCGGGACTCCGAGACCCTTGTCCCGGGAGAGGCCCAGGCGCCTTTACCCGGTTTCATTTTCAGTTTAGGCCAAAAATCCCCCCGGGTTGGTCGGGGCGGGGCGGGGCTCGGGGGACTGGGCTGACCGCGGGGTCGGGGCCAG\n",
      "01/30/2021 01:41:12 PM - Logger.seqann.gfe - INFO - ID NA         - Updated * all_feats 0.0007 MB *\n",
      "01/30/2021 01:41:12 PM - Logger.seqann.gfe - INFO - ID NA         - Storing new feature HLA-A:3:exon:GTTCTCACACCATCCAGATAATGTATGGCTGCGACGTGGGGCCGGACGGGCGCTTCCTCCGCGGGTACCGGCAGGACGCCTACGACGGCAAGGATTACATCGCCCTGAACGAGGACCTGCGCTCTTGGACCGCGGCGGACATGGCAGCTCAGATCACCAAGCGCAAGTGGGAGGCGGTCCATGCGGCGGAGCAGCGGAGAGTCTACCTGGAGGGCCGGTGCGTGGACGGGCTCCGCAGATACCTGGAGAACGGGAAGGAGACGCTGCAGCGCACGG\n",
      "01/30/2021 01:41:12 PM - Logger.seqann.gfe - INFO - ID NA         - Updated * all_feats 0.0007 MB *\n",
      "01/30/2021 01:41:12 PM - Logger.seqann.gfe - INFO - ID NA         - Storing new feature HLA-A:3:intron:GTACCAGGGGCCACGGGGCGCCTCCCTGATCGCCTATAGATCTCCCGGGCTGGCCTCCCACAAGGAGGGGAGACAATTGGGACCAACACTAGAATATCACCCTCCCTCTGGTCCTGAGGGAGAGGAATCCTCCTGGGTTTCCAGATCCTGTACCAGAGAGTGACTCTGAGGTTCCGCCCTGCTCTCTGACACAATTAAGGGATAAAATCTCTGAAGGAGTGACGGGAAGACGATCCCTCGAATACTGATGAGTGGTTCCCTTTGACACCGGCAGCAGCCTTGGGCCCGTGACTTTTCCTCTCAGGCCTTGTTCTCTGCTTCACACTCAATGTGTGTGGGGGTCTGAGTCCAGCACTTCTGAGTCTCTCAGCCTCCACTCAGGTCAGGACCAGAAGTCGCTGTTCCCTTCTCAGGGAATAGAAGATTATCCCAGGTGCCTGTGTCCAGGCTGGTGTCTGGGTTCTGTGCTCTCTTCCCCATCCCGGGTGTCCTGTCCATTCTCAAGATGGCCACATGCGTGCTGGTGGAGTGTCCCATGACAGATGCAAAATGCCTGAATTTTCTGACTCTTCCCGTCAG\n",
      "01/30/2021 01:41:12 PM - Logger.seqann.gfe - INFO - ID NA         - Updated * all_feats 0.0007 MB *\n",
      "01/30/2021 01:41:12 PM - Logger.seqann.gfe - INFO - ID NA         - Storing new feature HLA-A:4:exon:ACCCCCCCAAGACACATATGACCCACCACCCCATCTCTGACCATGAGGCCACCCTGAGGTGCTGGGCCCTGGGCTTCTACCCTGCGGAGATCACACTGACCTGGCAGCGGGATGGGGAGGACCAGACCCAGGACACGGAGCTCGTGGAGACCAGGCCTGCAGGGGATGGAACCTTCCAGAAGTGGGCGGCTGTGGTGGTGCCTTCTGGAGAGGAGCAGAGATACACCTGCCATGTGCAGCATGAGGGTCTGCCCAAGCCCCTCACCCTGAGATGGG\n",
      "01/30/2021 01:41:12 PM - Logger.seqann.gfe - INFO - ID NA         - Updated * all_feats 0.0007 MB *\n",
      "01/30/2021 01:41:12 PM - Logger.seqann.gfe - INFO - ID NA         - Storing new feature HLA-A:4:intron:GTAAGGAGGGAGATGGGGGTGTCATGTCTCTTAGGGAAAGCAGGAGCCTCTCTGGAGACCTTTAGCAGGGTCAGGGCCCCTCACCTTCCCCTCTTTTCCCAG\n",
      "01/30/2021 01:41:12 PM - Logger.seqann.gfe - INFO - ID NA         - Updated * all_feats 0.0007 MB *\n",
      "01/30/2021 01:41:12 PM - Logger.seqann.gfe - INFO - ID NA         - Storing new feature HLA-A:5:exon:AGCTGTCTTCCCAGCCCACCATCCCCATCGTGGGCATCATTGCTGGCCTGGTTCTCCTTGGAGCTGTGATCACTGGAGCTGTGGTCGCTGCCGTGATGTGGAGGAGGAAGAGCTCAG\n",
      "01/30/2021 01:41:12 PM - Logger.seqann.gfe - INFO - ID NA         - Updated * all_feats 0.0007 MB *\n",
      "01/30/2021 01:41:12 PM - Logger.seqann.gfe - INFO - ID NA         - Storing new feature HLA-A:5:intron:GTGGAGAAGGGGTGAAGGGTGGGGTCTGAGATTTCTTGTCTCACTGAGGGTTCCAAGCCCCAGCTAGAAATGTGCCCTGTCTCATTACTGGGAAGCACCTTCCACAATCATGGGCCGACCCAGCCTGGGCCCTGTGTGCCAGCACTTACTCTTTTGTAAAGCACCTGTTAAAATGAAGGACAGATTTATCACCTTGATTACGGCGGTGATGGGACCTGATCCCAGCAGTCACAAGTCACAGGGGAAGGTCCCTGAGGACAGACCTCAGGAGGGCTATTGGTCCAGGACCCACACCTGCTTTCTTCATGTTTCCTGATCCCGCCCTGGGTCTGCAGTCACACATTTCTGGAAACTTCTCTGGGGTCCAAGACTAGGAGGTTCCTCTAGGACCTTAAGGCCCTGGCTCCTTTCTGGTATCTCACAGGACATTTTCTTCCCACAG\n",
      "01/30/2021 01:41:12 PM - Logger.seqann.gfe - INFO - ID NA         - Updated * all_feats 0.0007 MB *\n",
      "01/30/2021 01:41:13 PM - Logger.seqann.gfe - INFO - ID NA         - Storing new feature HLA-A:6:exon:ATAGAAAAGGAGGGAGTTACACTCAGGCTGCAA\n",
      "01/30/2021 01:41:13 PM - Logger.seqann.gfe - INFO - ID NA         - Updated * all_feats 0.0007 MB *\n",
      "01/30/2021 01:41:13 PM - Logger.seqann.gfe - INFO - ID NA         - Storing new feature HLA-A:6:intron:GTAAGTATGAAGGAGGCTGATGCCTGAGGTCCTTGGGATATTGTGTTTGGGAGCCCATGGGGGAGCTCACCCACCCCACAATTCCTCCTCTAGCCACATCTTCTGTGGGATCTGACCAGGTTCTGTTTTTGTTCTACCCCAG\n",
      "01/30/2021 01:41:13 PM - Logger.seqann.gfe - INFO - ID NA         - Updated * all_feats 0.0007 MB *\n",
      "01/30/2021 01:41:13 PM - Logger.seqann.gfe - INFO - ID NA         - Storing new feature HLA-A:7:exon:GCAGTGACAGTGCCCAGGGCTCTGATGTGTCTCTCACAGCTTGTAAAG\n",
      "01/30/2021 01:41:13 PM - Logger.seqann.gfe - INFO - ID NA         - Updated * all_feats 0.0007 MB *\n",
      "01/30/2021 01:41:13 PM - Logger.seqann.gfe - INFO - ID NA         - Storing new feature HLA-A:7:intron:GTGAGAGCTTGGAGGGCCTGATGTGTGTTGGGTGTTGGGTGGAACAGTGGACACAGCTGTGCTATGGGGTTTCTTTGCGTTGGATGTATTGAGCATGCGATGGGCTGTTTAAGGTGTGACCCCTCACTGTGATGGATATGAATTTGTTCATGAATATTTTTTTCTATAG\n",
      "01/30/2021 01:41:13 PM - Logger.seqann.gfe - INFO - ID NA         - Updated * all_feats 0.0007 MB *\n",
      "01/30/2021 01:41:13 PM - Logger.seqann.gfe - INFO - ID NA         - Storing new feature HLA-A:8:exon:TGTGA\n",
      "01/30/2021 01:41:13 PM - Logger.seqann.gfe - INFO - ID NA         - Updated * all_feats 0.0007 MB *\n",
      "01/30/2021 01:41:13 PM - Logger.seqann.gfe - INFO - ID NA         - Storing new feature HLA-A:1:three_prime_UTR:GACAGCTGCCTTGTGTGGGACTGAGAGGCAAGAGTTGTTCCTGCCCTTCCCTTTGTGACTTGAAGAACCCTGACTTTGTTTCTGCAAAGGCACCTGCATGTGTCTGTGTTCGTGTAGGCATAATGTGAGGAGGTGGGGAGAGCACCCCACCCCCATGTCCACCATGACCCTCTTCCCACGCTGACCTGTGCTCCCTCTCCAATCATCTTTCCTGTTCCAGAGAGGTGGGGCTGAGGTGTCTCCATCTCTGTCTCAACTTCATGGTGCACTGAGCTGTAACTTCTTCCTTCCCTATTAAAA\n",
      "01/30/2021 01:41:13 PM - Logger.seqann.gfe - INFO - ID NA         - Updated * all_feats 0.0007 MB *\n",
      "01/30/2021 01:41:13 PM - Logger.seqann.gfe - INFO - GFE = HLA-Aw2-1-1-1-1-1-1-1-1-1-1-1-1-1-1-1-4\n"
     ]
    },
    {
     "ename": "NameError",
     "evalue": "name 'gen_aln' is not defined",
     "output_type": "error",
     "traceback": [
      "\u001b[0;31m---------------------------------------------------------------------------\u001b[0m",
      "\u001b[0;31mNameError\u001b[0m                                 Traceback (most recent call last)",
      "\u001b[0;32m<ipython-input-97-94c0e2f512d8>\u001b[0m in \u001b[0;36m<module>\u001b[0;34m\u001b[0m\n\u001b[1;32m     41\u001b[0m \u001b[0;34m\u001b[0m\u001b[0m\n\u001b[1;32m     42\u001b[0m         \u001b[0;32mif\u001b[0m \u001b[0malign\u001b[0m\u001b[0;34m:\u001b[0m\u001b[0;34m\u001b[0m\u001b[0;34m\u001b[0m\u001b[0m\n\u001b[0;32m---> 43\u001b[0;31m             \u001b[0;32mif\u001b[0m \u001b[0mallele\u001b[0m\u001b[0;34m.\u001b[0m\u001b[0mdescription\u001b[0m\u001b[0;34m.\u001b[0m\u001b[0msplit\u001b[0m\u001b[0;34m(\u001b[0m\u001b[0;34m\",\"\u001b[0m\u001b[0;34m)\u001b[0m\u001b[0;34m[\u001b[0m\u001b[0;36m0\u001b[0m\u001b[0;34m]\u001b[0m \u001b[0;32min\u001b[0m \u001b[0mgen_aln\u001b[0m\u001b[0;34m[\u001b[0m\u001b[0mloc\u001b[0m\u001b[0;34m]\u001b[0m\u001b[0;34m:\u001b[0m\u001b[0;34m\u001b[0m\u001b[0;34m\u001b[0m\u001b[0m\n\u001b[0m\u001b[1;32m     44\u001b[0m                 aligned_gen = gen_aln[loc][allele.description.split(\",\")[\n\u001b[1;32m     45\u001b[0m                     0]]\n",
      "\u001b[0;31mNameError\u001b[0m: name 'gen_aln' is not defined"
     ]
    }
   ],
   "source": [
    "for idx, allele in enumerate(a_gen):\n",
    "    \n",
    "    if idx == 1:\n",
    "            break\n",
    "        \n",
    "    if hasattr(allele, 'seq'):\n",
    "        hla_name = allele.description.split(\",\")[0]\n",
    "        print(f'hla_name: {hla_name}\\n')\n",
    "        \n",
    "        loc = allele.description.split(\",\")[0].split(\"*\")[0]\n",
    "        print(f'loc: {loc}\\n')\n",
    "        \n",
    "        a_name = allele.description.split(\",\")[0].split(\"-\")[1]\n",
    "        print(f'a_name: {a_name}\\n')\n",
    "        \n",
    "        groups = [[\"HLA-\" + ard.redux(a_name, grp), grp] if ard.redux(a_name, grp) != a_name else None for\n",
    "                                  grp in ard_groups]\n",
    "        print(f'groups: {groups}')\n",
    "    \n",
    "        seco = [[to_second(a_name), \"2nd_FIELD\"]]\n",
    "        print(f'seco: {seco}\\n')\n",
    "        \n",
    "        groups = list(filter(None, groups)) + seco\n",
    "        print(f'groups: {groups}\\n')\n",
    "        \n",
    "        complete_annotation = get_features(allele)\n",
    "        print(f'complete_annotation: {complete_annotation}\\n')\n",
    "        \n",
    "        ann = Annotation(annotation=complete_annotation,\n",
    "                         method='match',\n",
    "                         complete_annotation=True)\n",
    "        print(f'ann: {ann}\\n\\n\\n\\n')\n",
    "        \n",
    "        # This process takes a long time\n",
    "        features, gfe = gfe_maker.get_gfe(ann, loc)\n",
    "        \n",
    "        # gen_aln, nuc_aln, prot_aln\n",
    "        aligned_gen = ''\n",
    "        aligned_nuc = ''\n",
    "        aligned_prot = ''\n",
    "\n",
    "        if align:\n",
    "            if allele.description.split(\",\")[0] in gen_aln[loc]:\n",
    "                aligned_gen = gen_aln[loc][allele.description.split(\",\")[\n",
    "                    0]]\n",
    "\n",
    "            if allele.description.split(\",\")[0] in nuc_aln[loc]:\n",
    "                aligned_nuc = nuc_aln[loc][allele.description.split(\",\")[\n",
    "                    0]]\n",
    "\n",
    "            if allele.description.split(\",\")[0] in prot_aln[loc]:\n",
    "                aligned_prot = prot_aln[loc][allele.description.split(\",\")[\n",
    "                    0]]"
   ]
  },
  {
   "cell_type": "markdown",
   "metadata": {},
   "source": [
    "## build_graph( )\n",
    "\n",
    "Examining arguments of `build_graph()` function."
   ]
  },
  {
   "cell_type": "code",
   "execution_count": 86,
   "metadata": {},
   "outputs": [
    {
     "data": {
      "text/plain": [
       "[['HLA-A*01:01:01G', 'G'],\n",
       " ['HLA-A*01:01g', 'lg'],\n",
       " ['HLA-A*01:01', 'lgx'],\n",
       " ['A*01:01', '2nd_FIELD']]"
      ]
     },
     "execution_count": 86,
     "metadata": {},
     "output_type": "execute_result"
    }
   ],
   "source": [
    "groups"
   ]
  },
  {
   "cell_type": "code",
   "execution_count": 87,
   "metadata": {},
   "outputs": [
    {
     "data": {
      "text/plain": [
       "'HLA-Aw333-1-1-1-279-1-1-1-1-1-1-1-1-1-1-1-4'"
      ]
     },
     "execution_count": 87,
     "metadata": {},
     "output_type": "execute_result"
    }
   ],
   "source": [
    "gfe"
   ]
  },
  {
   "cell_type": "code",
   "execution_count": 88,
   "metadata": {},
   "outputs": [
    {
     "data": {
      "text/plain": [
       "SeqRecord(seq=Seq('CCAGTTCTCACTCCCATTGGGTGTCGGGTTTCCAGAGAAGCCAATCAGTGTCGT...AAA', IUPACAmbiguousDNA()), id='HLA16436.1', name='HLA16436', description='HLA-A*01:01:01:07, Human MHC Class I sequence', dbxrefs=['EMBL:KY350872'])"
      ]
     },
     "execution_count": 88,
     "metadata": {},
     "output_type": "execute_result"
    }
   ],
   "source": [
    "allele"
   ]
  },
  {
   "cell_type": "code",
   "execution_count": 89,
   "metadata": {
    "scrolled": false
   },
   "outputs": [
    {
     "data": {
      "text/plain": [
       "[{'accession': 333,\n",
       "  'hash_code': None,\n",
       "  'locus': 'HLA-A',\n",
       "  'rank': 1,\n",
       "  'sequence': 'CCAGTTCTCACTCCCATTGGGTGTCGGGTTTCCAGAGAAGCCAATCAGTGTCGTCGCGGTCGCTGTTCTAAAGTCCGCACGCACCCACCGGGACTCAGATTCTCCCCAGACGCCGAGG',\n",
       "  'term': 'five_prime_UTR'},\n",
       " {'accession': 1,\n",
       "  'hash_code': None,\n",
       "  'locus': 'HLA-A',\n",
       "  'rank': 1,\n",
       "  'sequence': 'ATGGCCGTCATGGCGCCCCGAACCCTCCTCCTGCTACTCTCGGGGGCCCTGGCCCTGACCCAGACCTGGGCGG',\n",
       "  'term': 'exon'},\n",
       " {'accession': 1,\n",
       "  'hash_code': None,\n",
       "  'locus': 'HLA-A',\n",
       "  'rank': 1,\n",
       "  'sequence': 'GTGAGTGCGGGGTCGGGAGGGAAACCGCCTCTGCGGGGAGAAGCAAGGGGCCCTCCTGGCGGGGGCGCAGGACCGGGGGAGCCGCGCCGGGAGGAGGGTCGGGCAGGTCTCAGCCACTGCTCGCCCCCAG',\n",
       "  'term': 'intron'},\n",
       " {'accession': 1,\n",
       "  'hash_code': None,\n",
       "  'locus': 'HLA-A',\n",
       "  'rank': 2,\n",
       "  'sequence': 'GCTCCCACTCCATGAGGTATTTCTTCACATCCGTGTCCCGGCCCGGCCGCGGGGAGCCCCGCTTCATCGCCGTGGGCTACGTGGACGACACGCAGTTCGTGCGGTTCGACAGCGACGCCGCGAGCCAGAAGATGGAGCCGCGGGCGCCGTGGATAGAGCAGGAGGGGCCGGAGTATTGGGACCAGGAGACACGGAATATGAAGGCCCACTCACAGACTGACCGAGCGAACCTGGGGACCCTGCGCGGCTACTACAACCAGAGCGAGGACG',\n",
       "  'term': 'exon'},\n",
       " {'accession': 279,\n",
       "  'hash_code': None,\n",
       "  'locus': 'HLA-A',\n",
       "  'rank': 2,\n",
       "  'sequence': 'GTGAGTGACCCCGGCCCGGGGCGCAGGTCACGACCCCTCATCCCCCACGGACGGGCCAGGTCGCCCACAGTCTCCGGGTCCGAGATCCACCCCGAAGCCGCGGGACTCCGAGACCCTTGTCCCGGGAGAGGCCCAGGCGCCTTTACCCGGTTTCATTTTCAGTTTAGGCCAAAAATCCCCCCGGGTTGGTCGGGGCGGGGCGGGGCTCGGGGGACCGGGCTGACCGCGGGGTCGGGGCCAG',\n",
       "  'term': 'intron'},\n",
       " {'accession': 1,\n",
       "  'hash_code': None,\n",
       "  'locus': 'HLA-A',\n",
       "  'rank': 3,\n",
       "  'sequence': 'GTTCTCACACCATCCAGATAATGTATGGCTGCGACGTGGGGCCGGACGGGCGCTTCCTCCGCGGGTACCGGCAGGACGCCTACGACGGCAAGGATTACATCGCCCTGAACGAGGACCTGCGCTCTTGGACCGCGGCGGACATGGCAGCTCAGATCACCAAGCGCAAGTGGGAGGCGGTCCATGCGGCGGAGCAGCGGAGAGTCTACCTGGAGGGCCGGTGCGTGGACGGGCTCCGCAGATACCTGGAGAACGGGAAGGAGACGCTGCAGCGCACGG',\n",
       "  'term': 'exon'},\n",
       " {'accession': 1,\n",
       "  'hash_code': None,\n",
       "  'locus': 'HLA-A',\n",
       "  'rank': 3,\n",
       "  'sequence': 'GTACCAGGGGCCACGGGGCGCCTCCCTGATCGCCTATAGATCTCCCGGGCTGGCCTCCCACAAGGAGGGGAGACAATTGGGACCAACACTAGAATATCACCCTCCCTCTGGTCCTGAGGGAGAGGAATCCTCCTGGGTTTCCAGATCCTGTACCAGAGAGTGACTCTGAGGTTCCGCCCTGCTCTCTGACACAATTAAGGGATAAAATCTCTGAAGGAGTGACGGGAAGACGATCCCTCGAATACTGATGAGTGGTTCCCTTTGACACCGGCAGCAGCCTTGGGCCCGTGACTTTTCCTCTCAGGCCTTGTTCTCTGCTTCACACTCAATGTGTGTGGGGGTCTGAGTCCAGCACTTCTGAGTCTCTCAGCCTCCACTCAGGTCAGGACCAGAAGTCGCTGTTCCCTTCTCAGGGAATAGAAGATTATCCCAGGTGCCTGTGTCCAGGCTGGTGTCTGGGTTCTGTGCTCTCTTCCCCATCCCGGGTGTCCTGTCCATTCTCAAGATGGCCACATGCGTGCTGGTGGAGTGTCCCATGACAGATGCAAAATGCCTGAATTTTCTGACTCTTCCCGTCAG',\n",
       "  'term': 'intron'},\n",
       " {'accession': 1,\n",
       "  'hash_code': None,\n",
       "  'locus': 'HLA-A',\n",
       "  'rank': 4,\n",
       "  'sequence': 'ACCCCCCCAAGACACATATGACCCACCACCCCATCTCTGACCATGAGGCCACCCTGAGGTGCTGGGCCCTGGGCTTCTACCCTGCGGAGATCACACTGACCTGGCAGCGGGATGGGGAGGACCAGACCCAGGACACGGAGCTCGTGGAGACCAGGCCTGCAGGGGATGGAACCTTCCAGAAGTGGGCGGCTGTGGTGGTGCCTTCTGGAGAGGAGCAGAGATACACCTGCCATGTGCAGCATGAGGGTCTGCCCAAGCCCCTCACCCTGAGATGGG',\n",
       "  'term': 'exon'},\n",
       " {'accession': 1,\n",
       "  'hash_code': None,\n",
       "  'locus': 'HLA-A',\n",
       "  'rank': 4,\n",
       "  'sequence': 'GTAAGGAGGGAGATGGGGGTGTCATGTCTCTTAGGGAAAGCAGGAGCCTCTCTGGAGACCTTTAGCAGGGTCAGGGCCCCTCACCTTCCCCTCTTTTCCCAG',\n",
       "  'term': 'intron'},\n",
       " {'accession': 1,\n",
       "  'hash_code': None,\n",
       "  'locus': 'HLA-A',\n",
       "  'rank': 5,\n",
       "  'sequence': 'AGCTGTCTTCCCAGCCCACCATCCCCATCGTGGGCATCATTGCTGGCCTGGTTCTCCTTGGAGCTGTGATCACTGGAGCTGTGGTCGCTGCCGTGATGTGGAGGAGGAAGAGCTCAG',\n",
       "  'term': 'exon'},\n",
       " {'accession': 1,\n",
       "  'hash_code': None,\n",
       "  'locus': 'HLA-A',\n",
       "  'rank': 5,\n",
       "  'sequence': 'GTGGAGAAGGGGTGAAGGGTGGGGTCTGAGATTTCTTGTCTCACTGAGGGTTCCAAGCCCCAGCTAGAAATGTGCCCTGTCTCATTACTGGGAAGCACCTTCCACAATCATGGGCCGACCCAGCCTGGGCCCTGTGTGCCAGCACTTACTCTTTTGTAAAGCACCTGTTAAAATGAAGGACAGATTTATCACCTTGATTACGGCGGTGATGGGACCTGATCCCAGCAGTCACAAGTCACAGGGGAAGGTCCCTGAGGACAGACCTCAGGAGGGCTATTGGTCCAGGACCCACACCTGCTTTCTTCATGTTTCCTGATCCCGCCCTGGGTCTGCAGTCACACATTTCTGGAAACTTCTCTGGGGTCCAAGACTAGGAGGTTCCTCTAGGACCTTAAGGCCCTGGCTCCTTTCTGGTATCTCACAGGACATTTTCTTCCCACAG',\n",
       "  'term': 'intron'},\n",
       " {'accession': 1,\n",
       "  'hash_code': None,\n",
       "  'locus': 'HLA-A',\n",
       "  'rank': 6,\n",
       "  'sequence': 'ATAGAAAAGGAGGGAGTTACACTCAGGCTGCAA',\n",
       "  'term': 'exon'},\n",
       " {'accession': 1,\n",
       "  'hash_code': None,\n",
       "  'locus': 'HLA-A',\n",
       "  'rank': 6,\n",
       "  'sequence': 'GTAAGTATGAAGGAGGCTGATGCCTGAGGTCCTTGGGATATTGTGTTTGGGAGCCCATGGGGGAGCTCACCCACCCCACAATTCCTCCTCTAGCCACATCTTCTGTGGGATCTGACCAGGTTCTGTTTTTGTTCTACCCCAG',\n",
       "  'term': 'intron'},\n",
       " {'accession': 1,\n",
       "  'hash_code': None,\n",
       "  'locus': 'HLA-A',\n",
       "  'rank': 7,\n",
       "  'sequence': 'GCAGTGACAGTGCCCAGGGCTCTGATGTGTCTCTCACAGCTTGTAAAG',\n",
       "  'term': 'exon'},\n",
       " {'accession': 1,\n",
       "  'hash_code': None,\n",
       "  'locus': 'HLA-A',\n",
       "  'rank': 7,\n",
       "  'sequence': 'GTGAGAGCTTGGAGGGCCTGATGTGTGTTGGGTGTTGGGTGGAACAGTGGACACAGCTGTGCTATGGGGTTTCTTTGCGTTGGATGTATTGAGCATGCGATGGGCTGTTTAAGGTGTGACCCCTCACTGTGATGGATATGAATTTGTTCATGAATATTTTTTTCTATAG',\n",
       "  'term': 'intron'},\n",
       " {'accession': 1,\n",
       "  'hash_code': None,\n",
       "  'locus': 'HLA-A',\n",
       "  'rank': 8,\n",
       "  'sequence': 'TGTGA',\n",
       "  'term': 'exon'},\n",
       " {'accession': 4,\n",
       "  'hash_code': None,\n",
       "  'locus': 'HLA-A',\n",
       "  'rank': 1,\n",
       "  'sequence': 'GACAGCTGCCTTGTGTGGGACTGAGAGGCAAGAGTTGTTCCTGCCCTTCCCTTTGTGACTTGAAGAACCCTGACTTTGTTTCTGCAAAGGCACCTGCATGTGTCTGTGTTCGTGTAGGCATAATGTGAGGAGGTGGGGAGAGCACCCCACCCCCATGTCCACCATGACCCTCTTCCCACGCTGACCTGTGCTCCCTCTCCAATCATCTTTCCTGTTCCAGAGAGGTGGGGCTGAGGTGTCTCCATCTCTGTCTCAACTTCATGGTGCACTGAGCTGTAACTTCTTCCTTCCCTATTAAAA',\n",
       "  'term': 'three_prime_UTR'}]"
      ]
     },
     "execution_count": 89,
     "metadata": {},
     "output_type": "execute_result"
    }
   ],
   "source": [
    "features"
   ]
  },
  {
   "cell_type": "code",
   "execution_count": 84,
   "metadata": {},
   "outputs": [
    {
     "data": {
      "text/plain": [
       "'3360'"
      ]
     },
     "execution_count": 84,
     "metadata": {},
     "output_type": "execute_result"
    }
   ],
   "source": [
    "dbversion"
   ]
  },
  {
   "cell_type": "code",
   "execution_count": 71,
   "metadata": {},
   "outputs": [
    {
     "data": {
      "text/plain": [
       "dict_keys(['five_prime_UTR', 'exon_1', 'intron_1', 'exon_2', 'intron_2', 'exon_3', 'intron_3', 'exon_4', 'intron_4', 'exon_5', 'intron_5', 'exon_6', 'intron_6', 'exon_7', 'intron_7', 'exon_8', 'three_prime_UTR'])"
      ]
     },
     "execution_count": 71,
     "metadata": {},
     "output_type": "execute_result"
    }
   ],
   "source": [
    "complete_annotation.keys()"
   ]
  },
  {
   "cell_type": "code",
   "execution_count": 75,
   "metadata": {},
   "outputs": [
    {
     "data": {
      "text/plain": [
       "SeqRecord(seq=Seq('ATGGCCGTCATGGCGCCCCGAACCCTCCTCCTGCTACTCTCGGGGGCCCTGGCC...CGG', IUPACAmbiguousDNA()), id='1', name='<unknown name>', description='<unknown description>', dbxrefs=[])"
      ]
     },
     "execution_count": 75,
     "metadata": {},
     "output_type": "execute_result"
    }
   ],
   "source": [
    "complete_annotation['exon_1']"
   ]
  },
  {
   "cell_type": "code",
   "execution_count": 27,
   "metadata": {},
   "outputs": [
    {
     "data": {
      "text/plain": [
       "'HLA-A*01:01:76, Human MHC Class I sequence (partial)'"
      ]
     },
     "execution_count": 27,
     "metadata": {},
     "output_type": "execute_result"
    }
   ],
   "source": [
    "allele.description"
   ]
  },
  {
   "cell_type": "code",
   "execution_count": 22,
   "metadata": {},
   "outputs": [
    {
     "data": {
      "text/plain": [
       "'HLA-A*01:01:76'"
      ]
     },
     "execution_count": 22,
     "metadata": {},
     "output_type": "execute_result"
    }
   ],
   "source": [
    "hla_name"
   ]
  },
  {
   "cell_type": "code",
   "execution_count": 23,
   "metadata": {},
   "outputs": [
    {
     "data": {
      "text/plain": [
       "'HLA-A'"
      ]
     },
     "execution_count": 23,
     "metadata": {},
     "output_type": "execute_result"
    }
   ],
   "source": [
    "loc"
   ]
  },
  {
   "cell_type": "code",
   "execution_count": 24,
   "metadata": {},
   "outputs": [
    {
     "data": {
      "text/plain": [
       "'A*01:01:76'"
      ]
     },
     "execution_count": 24,
     "metadata": {},
     "output_type": "execute_result"
    }
   ],
   "source": [
    "a_name"
   ]
  },
  {
   "cell_type": "code",
   "execution_count": 25,
   "metadata": {},
   "outputs": [
    {
     "data": {
      "text/plain": [
       "'A*01:01:76'"
      ]
     },
     "execution_count": 25,
     "metadata": {},
     "output_type": "execute_result"
    }
   ],
   "source": [
    "ard.redux(a_name, ard_groups[2])"
   ]
  },
  {
   "cell_type": "code",
   "execution_count": 26,
   "metadata": {},
   "outputs": [
    {
     "data": {
      "text/plain": [
       "[None, None, None]"
      ]
     },
     "execution_count": 26,
     "metadata": {},
     "output_type": "execute_result"
    }
   ],
   "source": [
    "groups"
   ]
  }
 ],
 "metadata": {
  "kernelspec": {
   "display_name": "Python 3",
   "language": "python",
   "name": "python3"
  },
  "language_info": {
   "codemirror_mode": {
    "name": "ipython",
    "version": 3
   },
   "file_extension": ".py",
   "mimetype": "text/x-python",
   "name": "python",
   "nbconvert_exporter": "python",
   "pygments_lexer": "ipython3",
   "version": "3.7.6"
  }
 },
 "nbformat": 4,
 "nbformat_minor": 4
}
